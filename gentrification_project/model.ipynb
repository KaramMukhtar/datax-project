{
 "cells": [
  {
   "cell_type": "markdown",
   "metadata": {},
   "source": [
    "# **Action Items**: Remove Before Submission"
   ]
  },
  {
   "cell_type": "markdown",
   "metadata": {},
   "source": [
    "To a large degree, the technical portion (this notebook) is completed. Here are a couple things that still need to be added, in order of importance:\n",
    "- Machine Learning Section: We should add more code, information on the machine learning models used. (This section is pretty thin and needs improvement.)\n",
    "- Bias Variance Tradeoff Visualization.\n",
    "- Cell 27: Values were initially imputed with 0 if NaN, but this is not the best method. We should think about, and experiment with, imputing NaNs with mean values, median, etc., much like we did in the Titanic Homework.\n",
    "- EDA Visualization Plot section: Add more similar plots of columns we believe are interesting, one example is given.\n"
   ]
  },
  {
   "cell_type": "markdown",
   "metadata": {
    "deletable": false,
    "editable": false
   },
   "source": [
    "# Gentrification Modeling"
   ]
  },
  {
   "cell_type": "code",
   "execution_count": 1,
   "metadata": {
    "deletable": false,
    "editable": false
   },
   "outputs": [],
   "source": [
    "import pandas as pd\n",
    "import numpy as np\n",
    "import warnings"
   ]
  },
  {
   "cell_type": "code",
   "execution_count": 2,
   "metadata": {
    "deletable": false,
    "editable": false
   },
   "outputs": [],
   "source": [
    "#importing individual county/census tract data\n",
    "warnings.filterwarnings(\"ignore\")\n",
    "stlouis = pd.read_csv(\"data/stlouis_county.csv\")\n",
    "denver = pd.read_csv(\"data/denver_cty.csv\")[1:]\n",
    "kings = pd.read_csv(\"data/kings_county.csv\")[1:]\n",
    "tarrant = pd.read_csv(\"data/tarrant_county.csv\")[1:]\n",
    "philly = pd.read_csv(\"data/philly_county.csv\")[1:]\n",
    "dc = pd.read_csv(\"data/DC.csv\")[1:]\n",
    "travis = pd.read_csv(\"data/Travis.csv\")[1:]\n",
    "alameda = pd.read_csv(\"data/alameda.csv\")[1:]\n",
    "harris = pd.read_csv(\"data/harris_county.csv\")[1:]"
   ]
  },
  {
   "cell_type": "code",
   "execution_count": 3,
   "metadata": {},
   "outputs": [],
   "source": [
    "#importing state aggregate data\n",
    "states = pd.read_csv(\"data/state_aggregate_data.csv\")"
   ]
  },
  {
   "cell_type": "code",
   "execution_count": 4,
   "metadata": {
    "deletable": false,
    "editable": false
   },
   "outputs": [
    {
     "data": {
      "text/html": [
       "<div>\n",
       "<style scoped>\n",
       "    .dataframe tbody tr th:only-of-type {\n",
       "        vertical-align: middle;\n",
       "    }\n",
       "\n",
       "    .dataframe tbody tr th {\n",
       "        vertical-align: top;\n",
       "    }\n",
       "\n",
       "    .dataframe thead th {\n",
       "        text-align: right;\n",
       "    }\n",
       "</style>\n",
       "<table border=\"1\" class=\"dataframe\">\n",
       "  <thead>\n",
       "    <tr style=\"text-align: right;\">\n",
       "      <th></th>\n",
       "      <th>Qualifying Name</th>\n",
       "      <th>Name of Area</th>\n",
       "      <th>FIPS</th>\n",
       "      <th>Nation</th>\n",
       "      <th>State</th>\n",
       "      <th>County</th>\n",
       "      <th>Census Tract</th>\n",
       "      <th>Total Population</th>\n",
       "      <th>Total Population.1</th>\n",
       "      <th>Total Population.2</th>\n",
       "      <th>...</th>\n",
       "      <th>Total Population: Substituted.2</th>\n",
       "      <th>Total Population.67</th>\n",
       "      <th>Total Population: Not substituted.3</th>\n",
       "      <th>Total Population: Substituted.3</th>\n",
       "      <th>% Total Population: Not substituted</th>\n",
       "      <th>% Total Population: Substituted</th>\n",
       "      <th>% Total Population: Not substituted.1</th>\n",
       "      <th>% Total Population: Substituted.1</th>\n",
       "      <th>% Total Population: Not substituted.2</th>\n",
       "      <th>% Total Population: Substituted.2</th>\n",
       "    </tr>\n",
       "  </thead>\n",
       "  <tbody>\n",
       "    <tr>\n",
       "      <th>0</th>\n",
       "      <td>Geo_QNAME</td>\n",
       "      <td>Geo_NAME</td>\n",
       "      <td>Geo_FIPS</td>\n",
       "      <td>Geo_NATION</td>\n",
       "      <td>Geo_STATE</td>\n",
       "      <td>Geo_COUNTY</td>\n",
       "      <td>Geo_CT</td>\n",
       "      <td>SE_T001_001</td>\n",
       "      <td>SE_NV002_001</td>\n",
       "      <td>SE_NV003_001</td>\n",
       "      <td>...</td>\n",
       "      <td>SE_NV331_003</td>\n",
       "      <td>SE_NV332_001</td>\n",
       "      <td>SE_NV332_002</td>\n",
       "      <td>SE_NV332_003</td>\n",
       "      <td>PCT_SE_T083_002</td>\n",
       "      <td>PCT_SE_T083_003</td>\n",
       "      <td>PCT_SE_NV330_002</td>\n",
       "      <td>PCT_SE_NV330_003</td>\n",
       "      <td>PCT_SE_NV331_002</td>\n",
       "      <td>PCT_SE_NV331_003</td>\n",
       "    </tr>\n",
       "    <tr>\n",
       "      <th>1</th>\n",
       "      <td>Census Tract 2101, St. Louis County, Missouri</td>\n",
       "      <td>Census Tract 2101</td>\n",
       "      <td>29189210100</td>\n",
       "      <td>NaN</td>\n",
       "      <td>29</td>\n",
       "      <td>189</td>\n",
       "      <td>210100</td>\n",
       "      <td>6298</td>\n",
       "      <td>6017</td>\n",
       "      <td>-281</td>\n",
       "      <td>...</td>\n",
       "      <td>258.7558</td>\n",
       "      <td>-4.46173388377263</td>\n",
       "      <td>-8.68227444288547</td>\n",
       "      <td>318.491412310048</td>\n",
       "      <td>98.71</td>\n",
       "      <td>1.29</td>\n",
       "      <td>94.35</td>\n",
       "      <td>5.65</td>\n",
       "      <td>192.08</td>\n",
       "      <td>-92.08</td>\n",
       "    </tr>\n",
       "    <tr>\n",
       "      <th>2</th>\n",
       "      <td>Census Tract 2102, St. Louis County, Missouri</td>\n",
       "      <td>Census Tract 2102</td>\n",
       "      <td>29189210200</td>\n",
       "      <td>NaN</td>\n",
       "      <td>29</td>\n",
       "      <td>189</td>\n",
       "      <td>210200</td>\n",
       "      <td>6248</td>\n",
       "      <td>6441</td>\n",
       "      <td>193</td>\n",
       "      <td>...</td>\n",
       "      <td>189.1432</td>\n",
       "      <td>3.08898847631242</td>\n",
       "      <td>0.0622954416560671</td>\n",
       "      <td>332.665925623672</td>\n",
       "      <td>99.09</td>\n",
       "      <td>0.91</td>\n",
       "      <td>96.18</td>\n",
       "      <td>3.82</td>\n",
       "      <td>2</td>\n",
       "      <td>98</td>\n",
       "    </tr>\n",
       "    <tr>\n",
       "      <th>3</th>\n",
       "      <td>Census Tract 2103, St. Louis County, Missouri</td>\n",
       "      <td>Census Tract 2103</td>\n",
       "      <td>29189210300</td>\n",
       "      <td>NaN</td>\n",
       "      <td>29</td>\n",
       "      <td>189</td>\n",
       "      <td>210300</td>\n",
       "      <td>3627</td>\n",
       "      <td>3466</td>\n",
       "      <td>-161</td>\n",
       "      <td>...</td>\n",
       "      <td>-8.9542</td>\n",
       "      <td>-4.43893024538186</td>\n",
       "      <td>-4.25416484590096</td>\n",
       "      <td>-16.9093291939072</td>\n",
       "      <td>98.54</td>\n",
       "      <td>1.46</td>\n",
       "      <td>98.73</td>\n",
       "      <td>1.27</td>\n",
       "      <td>94.44</td>\n",
       "      <td>5.56</td>\n",
       "    </tr>\n",
       "    <tr>\n",
       "      <th>4</th>\n",
       "      <td>Census Tract 2104, St. Louis County, Missouri</td>\n",
       "      <td>Census Tract 2104</td>\n",
       "      <td>29189210400</td>\n",
       "      <td>NaN</td>\n",
       "      <td>29</td>\n",
       "      <td>189</td>\n",
       "      <td>210400</td>\n",
       "      <td>4295</td>\n",
       "      <td>4363</td>\n",
       "      <td>68</td>\n",
       "      <td>...</td>\n",
       "      <td>-13.1515</td>\n",
       "      <td>1.58323632130384</td>\n",
       "      <td>1.95129733626988</td>\n",
       "      <td>-9.65946023363679</td>\n",
       "      <td>96.83</td>\n",
       "      <td>3.17</td>\n",
       "      <td>97.18</td>\n",
       "      <td>2.82</td>\n",
       "      <td>119.34</td>\n",
       "      <td>-19.34</td>\n",
       "    </tr>\n",
       "  </tbody>\n",
       "</table>\n",
       "<p>5 rows × 13084 columns</p>\n",
       "</div>"
      ],
      "text/plain": [
       "                                 Qualifying Name       Name of Area  \\\n",
       "0                                      Geo_QNAME           Geo_NAME   \n",
       "1  Census Tract 2101, St. Louis County, Missouri  Census Tract 2101   \n",
       "2  Census Tract 2102, St. Louis County, Missouri  Census Tract 2102   \n",
       "3  Census Tract 2103, St. Louis County, Missouri  Census Tract 2103   \n",
       "4  Census Tract 2104, St. Louis County, Missouri  Census Tract 2104   \n",
       "\n",
       "          FIPS      Nation      State      County Census Tract  \\\n",
       "0     Geo_FIPS  Geo_NATION  Geo_STATE  Geo_COUNTY       Geo_CT   \n",
       "1  29189210100         NaN         29         189       210100   \n",
       "2  29189210200         NaN         29         189       210200   \n",
       "3  29189210300         NaN         29         189       210300   \n",
       "4  29189210400         NaN         29         189       210400   \n",
       "\n",
       "  Total Population Total Population.1 Total Population.2  \\\n",
       "0      SE_T001_001       SE_NV002_001       SE_NV003_001   \n",
       "1             6298               6017               -281   \n",
       "2             6248               6441                193   \n",
       "3             3627               3466               -161   \n",
       "4             4295               4363                 68   \n",
       "\n",
       "                 ...                Total Population: Substituted.2  \\\n",
       "0                ...                                   SE_NV331_003   \n",
       "1                ...                                       258.7558   \n",
       "2                ...                                       189.1432   \n",
       "3                ...                                        -8.9542   \n",
       "4                ...                                       -13.1515   \n",
       "\n",
       "  Total Population.67 Total Population: Not substituted.3  \\\n",
       "0        SE_NV332_001                        SE_NV332_002   \n",
       "1   -4.46173388377263                   -8.68227444288547   \n",
       "2    3.08898847631242                  0.0622954416560671   \n",
       "3   -4.43893024538186                   -4.25416484590096   \n",
       "4    1.58323632130384                    1.95129733626988   \n",
       "\n",
       "  Total Population: Substituted.3 % Total Population: Not substituted  \\\n",
       "0                    SE_NV332_003                     PCT_SE_T083_002   \n",
       "1                318.491412310048                               98.71   \n",
       "2                332.665925623672                               99.09   \n",
       "3               -16.9093291939072                               98.54   \n",
       "4               -9.65946023363679                               96.83   \n",
       "\n",
       "  % Total Population: Substituted % Total Population: Not substituted.1  \\\n",
       "0                 PCT_SE_T083_003                      PCT_SE_NV330_002   \n",
       "1                            1.29                                 94.35   \n",
       "2                            0.91                                 96.18   \n",
       "3                            1.46                                 98.73   \n",
       "4                            3.17                                 97.18   \n",
       "\n",
       "  % Total Population: Substituted.1 % Total Population: Not substituted.2  \\\n",
       "0                  PCT_SE_NV330_003                      PCT_SE_NV331_002   \n",
       "1                              5.65                                192.08   \n",
       "2                              3.82                                     2   \n",
       "3                              1.27                                 94.44   \n",
       "4                              2.82                                119.34   \n",
       "\n",
       "  % Total Population: Substituted.2  \n",
       "0                  PCT_SE_NV331_003  \n",
       "1                            -92.08  \n",
       "2                                98  \n",
       "3                              5.56  \n",
       "4                            -19.34  \n",
       "\n",
       "[5 rows x 13084 columns]"
      ]
     },
     "execution_count": 4,
     "metadata": {},
     "output_type": "execute_result"
    }
   ],
   "source": [
    "#compile all census tract data from each county into one dataframe: result\n",
    "frames = [stlouis, denver, kings, tarrant, philly, dc, travis, alameda, harris]\n",
    "result = pd.concat(frames)\n",
    "result.head()"
   ]
  },
  {
   "cell_type": "code",
   "execution_count": 5,
   "metadata": {
    "deletable": false,
    "editable": false
   },
   "outputs": [],
   "source": [
    "assert result.shape == (3372, 13084)\n",
    "assert states.shape == (8, 13084)"
   ]
  },
  {
   "cell_type": "markdown",
   "metadata": {},
   "source": [
    "---------------------------------------------------------------DO NOT ALTER ANYTHING ABOVE THIS LINE -----------------------------------------------------------------"
   ]
  },
  {
   "cell_type": "markdown",
   "metadata": {
    "deletable": false,
    "editable": false
   },
   "source": [
    "# EDA: Renaming Columns & Data Cleaning"
   ]
  },
  {
   "cell_type": "markdown",
   "metadata": {
    "deletable": false,
    "editable": false
   },
   "source": [
    "Cleaning/Renaming for both result and states dataframes"
   ]
  },
  {
   "cell_type": "code",
   "execution_count": 6,
   "metadata": {
    "deletable": false,
    "editable": false
   },
   "outputs": [],
   "source": [
    "#for a fresh copy of result once result is altered\n",
    "fresh = result.copy(deep=True)"
   ]
  },
  {
   "cell_type": "code",
   "execution_count": 7,
   "metadata": {
    "deletable": false,
    "editable": false
   },
   "outputs": [],
   "source": [
    "#drop unnecessary columns\n",
    "result.drop(columns=[\"FIPS\", \"Nation\", \"County\", \"Name of Area\"], inplace=True)\n",
    "states.drop(columns=[\"FIPS\", \"Nation\", \"County\", \"Name of Area\"], inplace=True)"
   ]
  },
  {
   "cell_type": "code",
   "execution_count": 8,
   "metadata": {
    "deletable": false,
    "editable": false
   },
   "outputs": [],
   "source": [
    "#make temporary column names the unique identifier ID for each variable as encoded in the Social Explorer Dictionary for\n",
    "#Census 2000 - 2010 Comparability Data\n",
    "result.columns = result.iloc[0]\n",
    "result = result.iloc[1:]\n",
    "states.columns = states.iloc[0]\n",
    "states = states.iloc[1:]"
   ]
  },
  {
   "cell_type": "markdown",
   "metadata": {
    "deletable": false,
    "editable": false
   },
   "source": [
    "Rename all Useful Columns"
   ]
  },
  {
   "cell_type": "code",
   "execution_count": 9,
   "metadata": {
    "deletable": false,
    "editable": false
   },
   "outputs": [],
   "source": [
    "result.rename(columns={\"Geo_QNAME\": \"Name\", \"Geo_STATE\": \"State\"}, inplace=True)\n",
    "states.rename(columns={\"Geo_QNAME\": \"Name\", \"Geo_STATE\": \"State\"}, inplace=True)"
   ]
  },
  {
   "cell_type": "code",
   "execution_count": 10,
   "metadata": {
    "deletable": false,
    "editable": false
   },
   "outputs": [],
   "source": [
    "result.rename(columns=\n",
    "    {\"SE_T001_001\": \"Population 2000\", \n",
    "     \"SE_NV002_001\": \"Population 2010\",\n",
    "     \"SE_NV003_001\": \"Population # Change\",\n",
    "     \"SE_NV004_001\": \"Population % Change\"\n",
    "    }, inplace=True)\n",
    "result.rename(columns=\n",
    "{\"SE_T002_002\": \"# Male 2000\",\n",
    " \"SE_T002_003\": \"# Female 2000\",\n",
    " \"SE_NV006_002\": \"# Male 2010\",\n",
    " \"SE_NV006_003\": \"# Female 2010\",\n",
    " \"SE_NV008_002\": \"% Difference Male\",\n",
    " \"SE_NV008_003\": \"% Difference Female\"\n",
    "}, inplace=True)\n",
    "\n",
    "#state aggregate data\n",
    "states.rename(columns=\n",
    "    {\"SE_T001_001\": \"Population 2000\", \n",
    "     \"SE_NV002_001\": \"Population 2010\",\n",
    "     \"SE_NV003_001\": \"Population # Change\",\n",
    "     \"SE_NV004_001\": \"Population % Change\"\n",
    "    }, inplace=True)\n",
    "states.rename(columns=\n",
    "{\"SE_T002_002\": \"# Male 2000\",\n",
    " \"SE_T002_003\": \"# Female 2000\",\n",
    " \"SE_NV006_002\": \"# Male 2010\",\n",
    " \"SE_NV006_003\": \"# Female 2010\",\n",
    " \"SE_NV008_002\": \"% Difference Male\",\n",
    " \"SE_NV008_003\": \"% Difference Female\"\n",
    "}, inplace=True)\n"
   ]
  },
  {
   "cell_type": "code",
   "execution_count": 11,
   "metadata": {
    "deletable": false,
    "editable": false
   },
   "outputs": [],
   "source": [
    "result.rename(columns=\n",
    "{\n",
    "    'SE_T032_002':         '2000 Under 5 Years',\n",
    "    'SE_T032_003':         '2000 5 to 9 Years',\n",
    "    'SE_T032_004':         '2000 10 to 14 Years',\n",
    "    'SE_T032_005':         '2000 15 to 17 Years',\n",
    "    'SE_T032_006':         '2000 18 to 24 Years',\n",
    "    'SE_T032_007':         '2000 25 to 34 Years',\n",
    "    'SE_T032_008':         '2000 35 to 44 Years',\n",
    "    'SE_T032_009':         '2000 45 to 54 Years',\n",
    "    'SE_T032_010':         '2000 55 to 64 Years',\n",
    "    'SE_T032_011':         '2000 65 and 74 Years',\n",
    "    'SE_T032_012':         '2000 75 to 84 Years',\n",
    "    'SE_T032_013':         '2000 85 Years and Over'\n",
    "}, inplace=True\n",
    "                )\n",
    "result.rename(columns=\n",
    "{\n",
    "    'SE_NV126_002':         '2010 Under 5 Years',\n",
    "    'SE_NV126_003':         '2010 5 to 9 Years',\n",
    "    'SE_NV126_004':         '2010 10 to 14 Years',\n",
    "    'SE_NV126_005':         '2010 15 to 17 Years',\n",
    "    'SE_NV126_006':         '2010 18 to 24 Years',\n",
    "    'SE_NV126_007':         '2010 25 to 34 Years',\n",
    "    'SE_NV126_008':         '2010 35 to 44 Years',\n",
    "    'SE_NV126_009':         '2010 45 to 54 Years',\n",
    "    'SE_NV126_010':         '2010 55 to 64 Years',\n",
    "    'SE_NV126_011':         '2010 65 and 74 Years',\n",
    "    'SE_NV126_012':         '2010 75 to 84 Years',\n",
    "    'SE_NV126_013':         '2010 85 Years and Over'\n",
    "}, inplace=True\n",
    "                )\n",
    "result.rename(columns=\n",
    "{\n",
    "    'SE_NV128_002':         '% Difference Age Under 5 Years',\n",
    "    'SE_NV128_003':         '% Difference Age 5 to 9 Years',\n",
    "    'SE_NV128_004':         '% Difference Age 10 to 14 Years',\n",
    "    'SE_NV128_005':         '% Difference Age 15 to 17 Years',\n",
    "    'SE_NV128_006':         '% Difference Age 18 to 24 Years',\n",
    "    'SE_NV128_007':         '% Difference Age 25 to 34 Years',\n",
    "    'SE_NV128_008':         '% Difference Age 35 to 44 Years',\n",
    "    'SE_NV128_009':         '% Difference Age 45 to 54 Years',\n",
    "    'SE_NV128_010':         '% Difference Age 55 to 64 Years',\n",
    "    'SE_NV128_011':         '% Difference Age 65 and 74 Years',\n",
    "    'SE_NV128_012':         '% Difference Age 75 to 84 Years',\n",
    "    'SE_NV128_013':         '% Difference Age 85 Years and Over'\n",
    "}, inplace=True\n",
    "                )\n",
    "\n",
    "#state aggregate data\n",
    "states.rename(columns=\n",
    "{\n",
    "    'SE_T032_002':         '2000 Under 5 Years',\n",
    "    'SE_T032_003':         '2000 5 to 9 Years',\n",
    "    'SE_T032_004':         '2000 10 to 14 Years',\n",
    "    'SE_T032_005':         '2000 15 to 17 Years',\n",
    "    'SE_T032_006':         '2000 18 to 24 Years',\n",
    "    'SE_T032_007':         '2000 25 to 34 Years',\n",
    "    'SE_T032_008':         '2000 35 to 44 Years',\n",
    "    'SE_T032_009':         '2000 45 to 54 Years',\n",
    "    'SE_T032_010':         '2000 55 to 64 Years',\n",
    "    'SE_T032_011':         '2000 65 and 74 Years',\n",
    "    'SE_T032_012':         '2000 75 to 84 Years',\n",
    "    'SE_T032_013':         '2000 85 Years and Over'\n",
    "}, inplace=True\n",
    "                )\n",
    "states.rename(columns=\n",
    "{\n",
    "    'SE_NV126_002':         '2010 Under 5 Years',\n",
    "    'SE_NV126_003':         '2010 5 to 9 Years',\n",
    "    'SE_NV126_004':         '2010 10 to 14 Years',\n",
    "    'SE_NV126_005':         '2010 15 to 17 Years',\n",
    "    'SE_NV126_006':         '2010 18 to 24 Years',\n",
    "    'SE_NV126_007':         '2010 25 to 34 Years',\n",
    "    'SE_NV126_008':         '2010 35 to 44 Years',\n",
    "    'SE_NV126_009':         '2010 45 to 54 Years',\n",
    "    'SE_NV126_010':         '2010 55 to 64 Years',\n",
    "    'SE_NV126_011':         '2010 65 and 74 Years',\n",
    "    'SE_NV126_012':         '2010 75 to 84 Years',\n",
    "    'SE_NV126_013':         '2010 85 Years and Over'\n",
    "}, inplace=True\n",
    "                )\n",
    "states.rename(columns=\n",
    "{\n",
    "    'SE_NV128_002':         '% Difference Age Under 5 Years',\n",
    "    'SE_NV128_003':         '% Difference Age 5 to 9 Years',\n",
    "    'SE_NV128_004':         '% Difference Age 10 to 14 Years',\n",
    "    'SE_NV128_005':         '% Difference Age 15 to 17 Years',\n",
    "    'SE_NV128_006':         '% Difference Age 18 to 24 Years',\n",
    "    'SE_NV128_007':         '% Difference Age 25 to 34 Years',\n",
    "    'SE_NV128_008':         '% Difference Age 35 to 44 Years',\n",
    "    'SE_NV128_009':         '% Difference Age 45 to 54 Years',\n",
    "    'SE_NV128_010':         '% Difference Age 55 to 64 Years',\n",
    "    'SE_NV128_011':         '% Difference Age 65 and 74 Years',\n",
    "    'SE_NV128_012':         '% Difference Age 75 to 84 Years',\n",
    "    'SE_NV128_013':         '% Difference Age 85 Years and Over'\n",
    "}, inplace=True\n",
    "                )"
   ]
  },
  {
   "cell_type": "code",
   "execution_count": 12,
   "metadata": {
    "deletable": false,
    "editable": false
   },
   "outputs": [],
   "source": [
    "result.rename(columns=\n",
    "{\n",
    "    'SE_T052_002':      '2000 White Alone',\n",
    "    'SE_T052_003':      '2000 Black or African American Alone',\n",
    "    'SE_T052_004':      '2000 American Indian and Alaska Native Alone',\n",
    "    'SE_T052_005':      '2000 Asian Alone',\n",
    "    'SE_T052_006':      '2000 Native Hawaiian and Other Pacific Islander Alone',\n",
    "    'SE_T052_007':      '2000 Some Other Race Alone',\n",
    "    'SE_T052_008':      '2000 Two or More Races'\n",
    "}, inplace=True\n",
    "                )  \n",
    "result.rename(columns=\n",
    "{\n",
    "    'SE_NV206_002':      '2010 White Alone',\n",
    "    'SE_NV206_003':      '2010 Black or African American Alone',\n",
    "    'SE_NV206_004':      '2010 American Indian and Alaska Native Alone',\n",
    "    'SE_NV206_005':      '2010 Asian Alone',\n",
    "    'SE_NV206_006':      '2010 Native Hawaiian and Other Pacific Islander Alone',\n",
    "    'SE_NV206_007':      '2010 Some Other Race Alone',\n",
    "    'SE_NV206_008':      '2010 Two or More Races'\n",
    "}, inplace=True\n",
    "                )  \n",
    "result.rename(columns=\n",
    "{\n",
    "    'SE_NV208_002':      '% Difference Race White Alone',\n",
    "    'SE_NV208_003':      '% Difference Race Black or African American Alone',\n",
    "    'SE_NV208_004':      '% Difference Race American Indian and Alaska Native Alone',\n",
    "    'SE_NV208_005':      '% Difference Race Asian Alone',\n",
    "    'SE_NV208_006':      '% Difference Race Native Hawaiian and Other Pacific Islander Alone',\n",
    "    'SE_NV208_007':      '% Difference Race Some Other Race Alone',\n",
    "    'SE_NV208_008':      '% Difference Race Two or More Races'\n",
    "}, inplace=True\n",
    "                )  \n",
    "\n",
    "#State Aggregate Data\n",
    "states.rename(columns=\n",
    "{\n",
    "    'SE_T052_002':      '2000 White Alone',\n",
    "    'SE_T052_003':      '2000 Black or African American Alone',\n",
    "    'SE_T052_004':      '2000 American Indian and Alaska Native Alone',\n",
    "    'SE_T052_005':      '2000 Asian Alone',\n",
    "    'SE_T052_006':      '2000 Native Hawaiian and Other Pacific Islander Alone',\n",
    "    'SE_T052_007':      '2000 Some Other Race Alone',\n",
    "    'SE_T052_008':      '2000 Two or More Races'\n",
    "}, inplace=True\n",
    "                )  \n",
    "states.rename(columns=\n",
    "{\n",
    "    'SE_NV206_002':      '2010 White Alone',\n",
    "    'SE_NV206_003':      '2010 Black or African American Alone',\n",
    "    'SE_NV206_004':      '2010 American Indian and Alaska Native Alone',\n",
    "    'SE_NV206_005':      '2010 Asian Alone',\n",
    "    'SE_NV206_006':      '2010 Native Hawaiian and Other Pacific Islander Alone',\n",
    "    'SE_NV206_007':      '2010 Some Other Race Alone',\n",
    "    'SE_NV206_008':      '2010 Two or More Races'\n",
    "}, inplace=True\n",
    "                )  \n",
    "states.rename(columns=\n",
    "{\n",
    "    'SE_NV208_002':      '% Difference Race White Alone',\n",
    "    'SE_NV208_003':      '% Difference Race Black or African American Alone',\n",
    "    'SE_NV208_004':      '% Difference Race American Indian and Alaska Native Alone',\n",
    "    'SE_NV208_005':      '% Difference Race Asian Alone',\n",
    "    'SE_NV208_006':      '% Difference Race Native Hawaiian and Other Pacific Islander Alone',\n",
    "    'SE_NV208_007':      '% Difference Race Some Other Race Alone',\n",
    "    'SE_NV208_008':      '% Difference Race Two or More Races'\n",
    "}, inplace=True\n",
    "                )  "
   ]
  },
  {
   "cell_type": "code",
   "execution_count": 13,
   "metadata": {
    "deletable": false,
    "editable": false
   },
   "outputs": [],
   "source": [
    "result.rename(columns=\n",
    "{\n",
    "    'SE_T053_002':      '2000 Not Hispanic or Latino',\n",
    "    'SE_T053_003':      '2000 Hispanic or Latino',\n",
    "    'SE_NV210_002':     '2010 Not Hispanic or Latino',\n",
    "    'SE_NV210_003':     '2010 Hispanic or Latino',\n",
    "    'SE_NV212_002':     '% Difference Not Hispanic or Latino',\n",
    "    'SE_NV212_003':     '% Difference Hispanic or Latino'\n",
    "}, inplace=True\n",
    "                )  \n",
    "result.rename(columns=\n",
    "{\n",
    "  'SE_T056_001':   '2000 # Occupied Housing Units',\n",
    "  'SE_T056_002':   '2000 # 1-Person Household',\n",
    "  'SE_T056_003':   '2000 # 2-Person Household',\n",
    "  'SE_T056_004':   '2000 # 3-Person Household',\n",
    "  'SE_T056_005':   '2000 # 4-Person Household',\n",
    "  'SE_T056_006':   '2000 # 5-Person Household',\n",
    "  'SE_T056_007':   '2000 # 6-Person Household',\n",
    "  'SE_T056_008':   '2000 # 7-or-More Person Household'\n",
    "}, inplace=True\n",
    "                )  \n",
    "result.rename(columns=\n",
    "{\n",
    "  'SE_NV222_001':   '2010 # Occupied Housing Units',\n",
    "  'SE_NV222_002':   '2010 # 1-Person Household',\n",
    "  'SE_NV222_003':   '2010 # 2-Person Household',\n",
    "  'SE_NV222_004':   '2010 # 3-Person Household',\n",
    "  'SE_NV222_005':   '2010 # 4-Person Household',\n",
    "  'SE_NV222_006':   '2010 # 5-Person Household',\n",
    "  'SE_NV222_007':   '2010 # 6-Person Household',\n",
    "  'SE_NV222_008':   '2010 # 7-or-More Person Household'\n",
    "}, inplace=True\n",
    "                )  \n",
    "result.rename(columns=\n",
    "{\n",
    "  'SE_NV224_001':   '% Change in # Occupied Housing Units',\n",
    "  'SE_NV224_002':   '% Change in # 1-Person Household',\n",
    "  'SE_NV224_003':   '% Change in # 2-Person Household',\n",
    "  'SE_NV224_004':   '% Change in # 3-Person Household',\n",
    "  'SE_NV224_005':   '% Change in # 4-Person Household',\n",
    "  'SE_NV224_006':   '% Change in # 5-Person Household',\n",
    "  'SE_NV224_007':   '% Change in # 6-Person Household',\n",
    "  'SE_NV224_008':   '% Change in # 7-or-More Person Household'\n",
    "}, inplace=True\n",
    "                )  \n",
    "#state aggregate data\n",
    "\n",
    "states.rename(columns=\n",
    "{\n",
    "    'SE_T053_002':      '2000 Not Hispanic or Latino',\n",
    "    'SE_T053_003':      '2000 Hispanic or Latino',\n",
    "    'SE_NV210_002':     '2010 Not Hispanic or Latino',\n",
    "    'SE_NV210_003':     '2010 Hispanic or Latino',\n",
    "    'SE_NV212_002':     '% Difference Not Hispanic or Latino',\n",
    "    'SE_NV212_003':     '% Difference Hispanic or Latino'\n",
    "}, inplace=True\n",
    "                )  \n",
    "states.rename(columns=\n",
    "{\n",
    "  'SE_T056_001':   '2000 # Occupied Housing Units',\n",
    "  'SE_T056_002':   '2000 # 1-Person Household',\n",
    "  'SE_T056_003':   '2000 # 2-Person Household',\n",
    "  'SE_T056_004':   '2000 # 3-Person Household',\n",
    "  'SE_T056_005':   '2000 # 4-Person Household',\n",
    "  'SE_T056_006':   '2000 # 5-Person Household',\n",
    "  'SE_T056_007':   '2000 # 6-Person Household',\n",
    "  'SE_T056_008':   '2000 # 7-or-More Person Household'\n",
    "}, inplace=True\n",
    "                )  \n",
    "states.rename(columns=\n",
    "{\n",
    "  'SE_NV222_001':   '2010 # Occupied Housing Units',\n",
    "  'SE_NV222_002':   '2010 # 1-Person Household',\n",
    "  'SE_NV222_003':   '2010 # 2-Person Household',\n",
    "  'SE_NV222_004':   '2010 # 3-Person Household',\n",
    "  'SE_NV222_005':   '2010 # 4-Person Household',\n",
    "  'SE_NV222_006':   '2010 # 5-Person Household',\n",
    "  'SE_NV222_007':   '2010 # 6-Person Household',\n",
    "  'SE_NV222_008':   '2010 # 7-or-More Person Household'\n",
    "}, inplace=True\n",
    "                )  \n",
    "states.rename(columns=\n",
    "{\n",
    "  'SE_NV224_001':   '% Change in # Occupied Housing Units',\n",
    "  'SE_NV224_002':   '% Change in # 1-Person Household',\n",
    "  'SE_NV224_003':   '% Change in # 2-Person Household',\n",
    "  'SE_NV224_004':   '% Change in # 3-Person Household',\n",
    "  'SE_NV224_005':   '% Change in # 4-Person Household',\n",
    "  'SE_NV224_006':   '% Change in # 5-Person Household',\n",
    "  'SE_NV224_007':   '% Change in # 6-Person Household',\n",
    "  'SE_NV224_008':   '% Change in # 7-or-More Person Household'\n",
    "}, inplace=True\n",
    "                )  "
   ]
  },
  {
   "cell_type": "code",
   "execution_count": 14,
   "metadata": {
    "deletable": false,
    "editable": false
   },
   "outputs": [],
   "source": [
    "result.rename(columns=\n",
    "{\n",
    "  'SE_T072_003':      '2000 # Units Owner Occupied',\n",
    "  'SE_T072_002':      '2000 # Units Renter Occupied',\n",
    "  'SE_NV286_003':      '2010 # Owner Occupied',\n",
    "  'SE_NV286_002':      '2010 # Renter Occupied',\n",
    "  'SE_NV288_003':      '% Difference in # Owner Occupied',\n",
    "  'SE_NV288_002':      '% Difference in # Renter Occupied',\n",
    "}, inplace=True\n",
    "                )  \n",
    "\n",
    "result.rename(columns=\n",
    "{\n",
    "  'SE_T077_002':     '2000 Housing Units Occupied',\n",
    "  'SE_T077_003':      '2000 Housing Unites Vacant',\n",
    "  'SE_NV306_002':     '2010 Housing Units Occupied',\n",
    "  'SE_NV306_003':      '2010 Housing Unites Vacant',\n",
    "  'SE_NV308_002':     '% Change in Housing Units Occupied',\n",
    "  'SE_NV308_003':      '% Change in Housing Unites Vacant'\n",
    "    \n",
    "}, inplace=True\n",
    "                ) \n",
    "\n",
    "#State Aggregate Data\n",
    "\n",
    "states.rename(columns=\n",
    "{\n",
    "  'SE_T072_003':      '2000 # Units Owner Occupied',\n",
    "  'SE_T072_002':      '2000 # Units Renter Occupied',\n",
    "  'SE_NV286_003':      '2010 # Owner Occupied',\n",
    "  'SE_NV286_002':      '2010 # Renter Occupied',\n",
    "  'SE_NV288_003':      '% Difference in # Owner Occupied',\n",
    "  'SE_NV288_002':      '% Difference in # Renter Occupied',\n",
    "}, inplace=True\n",
    "                )  \n",
    "\n",
    "states.rename(columns=\n",
    "{\n",
    "  'SE_T077_002':     '2000 Housing Units Occupied',\n",
    "  'SE_T077_003':      '2000 Housing Unites Vacant',\n",
    "  'SE_NV306_002':     '2010 Housing Units Occupied',\n",
    "  'SE_NV306_003':      '2010 Housing Unites Vacant',\n",
    "  'SE_NV308_002':     '% Change in Housing Units Occupied',\n",
    "  'SE_NV308_003':      '% Change in Housing Unites Vacant'\n",
    "    \n",
    "}, inplace=True\n",
    "                ) "
   ]
  },
  {
   "cell_type": "code",
   "execution_count": 15,
   "metadata": {
    "deletable": false,
    "editable": false
   },
   "outputs": [],
   "source": [
    "result.rename(columns=\n",
    "{\n",
    "  'SE_T079_002':      '2000 Vacant Housing Units For Rent',\n",
    "  'SE_T079_007':      '2000 Vacant Housing Units Rented or Sold, Not Occupied',\n",
    "  'SE_T079_003':      '2000 Vacant Housing Units For Sale Only',\n",
    "  'SE_T079_004':      '2000 Vacant Housing Units For Seasonal, Recreational, or Occasional Use',\n",
    "  'SE_T079_005':      '2000 Vacant Housing Units For Migrant Workers',\n",
    "  'SE_T079_006':      '2000 Vacant Housing Units Other Vacant',\n",
    "    \n",
    "  'SE_NV314_002':      '2010 Vacant Housing Units For Rent',\n",
    "  'SE_NV314_007':      '2010 Vacant Housing Units Rented or Sold, Not Occupied',\n",
    "  'SE_NV314_003':      '2010 Vacant Housing Units For Sale Only',\n",
    "  'SE_NV314_004':      '2010 Vacant Housing Units For Seasonal, Recreational, or Occasional Use',\n",
    "  'SE_NV314_005':      '2010 Vacant Housing Units For Migrant Workers',\n",
    "  'SE_NV314_006':      '2010 Vacant Housing Units Other Vacant',\n",
    "\n",
    "    \n",
    "}, inplace=True\n",
    "                )\n",
    "result.rename(columns=\n",
    "{\n",
    "    \n",
    "  'SE_NV316_002':      '% Change in Vacant Housing Units For Rent',\n",
    "  'SE_NV316_007':      '% Change in Vacant Housing Units Rented or Sold, Not Occupied',\n",
    "  'SE_NV316_003':      '% Change in Vacant Housing Units For Sale Only',\n",
    "  'SE_NV316_004':      '% Change in Vacant Housing Units For Seasonal, Recreational, or Occasional Use',\n",
    "  'SE_NV316_005':      '% Change in Vacant Housing Units For Migrant Workers',\n",
    "  'SE_NV316_006':      '% Change in Vacant Housing Units Other Vacant'\n",
    "\n",
    "    \n",
    "}, inplace=True\n",
    "                )\n",
    "#State Aggregate Data\n",
    "\n",
    "states.rename(columns=\n",
    "{\n",
    "  'SE_T079_002':      '2000 Vacant Housing Units For Rent',\n",
    "  'SE_T079_007':      '2000 Vacant Housing Units Rented or Sold, Not Occupied',\n",
    "  'SE_T079_003':      '2000 Vacant Housing Units For Sale Only',\n",
    "  'SE_T079_004':      '2000 Vacant Housing Units For Seasonal, Recreational, or Occasional Use',\n",
    "  'SE_T079_005':      '2000 Vacant Housing Units For Migrant Workers',\n",
    "  'SE_T079_006':      '2000 Vacant Housing Units Other Vacant',\n",
    "    \n",
    "  'SE_NV314_002':      '2010 Vacant Housing Units For Rent',\n",
    "  'SE_NV314_007':      '2010 Vacant Housing Units Rented or Sold, Not Occupied',\n",
    "  'SE_NV314_003':      '2010 Vacant Housing Units For Sale Only',\n",
    "  'SE_NV314_004':      '2010 Vacant Housing Units For Seasonal, Recreational, or Occasional Use',\n",
    "  'SE_NV314_005':      '2010 Vacant Housing Units For Migrant Workers',\n",
    "  'SE_NV314_006':      '2010 Vacant Housing Units Other Vacant',\n",
    "\n",
    "    \n",
    "}, inplace=True\n",
    "                )\n",
    "states.rename(columns=\n",
    "{\n",
    "    \n",
    "  'SE_NV316_002':      '% Change in Vacant Housing Units For Rent',\n",
    "  'SE_NV316_007':      '% Change in Vacant Housing Units Rented or Sold, Not Occupied',\n",
    "  'SE_NV316_003':      '% Change in Vacant Housing Units For Sale Only',\n",
    "  'SE_NV316_004':      '% Change in Vacant Housing Units For Seasonal, Recreational, or Occasional Use',\n",
    "  'SE_NV316_005':      '% Change in Vacant Housing Units For Migrant Workers',\n",
    "  'SE_NV316_006':      '% Change in Vacant Housing Units Other Vacant'\n",
    "\n",
    "    \n",
    "}, inplace=True\n",
    "                )"
   ]
  },
  {
   "cell_type": "code",
   "execution_count": 16,
   "metadata": {
    "deletable": false,
    "editable": false
   },
   "outputs": [],
   "source": [
    "result.rename(columns=\n",
    "{\n",
    "    \n",
    "  'SE_T081_002':      '2000 Total Urban Population',\n",
    "  'SE_T081_003':      '2000 Urban Population Inside Urbanized Areas',\n",
    "  'SE_T081_004':      '2000 Urban Population Inside Urban Clusters',\n",
    "  'SE_T081_005':      '2000 Total Rural Population',\n",
    "    \n",
    "  'SE_NV322_002':      '2010 Total Urban Population',\n",
    "  'SE_NV322_003':      '2010 Urban Population Inside Urbanized Areas',\n",
    "  'SE_NV322_004':      '2010 Urban Population Inside Urban Clusters',\n",
    "  'SE_NV322_005':      '2010 Total Rural Population',\n",
    "    \n",
    "    \n",
    "  'SE_NV324_002':      '% Change in Total Urban Population',\n",
    "  'SE_NV324_003':      '% Change in Urban Population Inside Urbanized Areas',\n",
    "  'SE_NV324_004':      '% Change in Urban Population Inside Urban Clusters',\n",
    "  'SE_NV324_005':      '% Change in Total Rural Population'\n",
    "\n",
    "    \n",
    "}, inplace=True\n",
    "                )\n",
    "\n",
    "#State Aggregate Data\n",
    "\n",
    "states.rename(columns=\n",
    "{\n",
    "    \n",
    "  'SE_T081_002':      '2000 Total Urban Population',\n",
    "  'SE_T081_003':      '2000 Urban Population Inside Urbanized Areas',\n",
    "  'SE_T081_004':      '2000 Urban Population Inside Urban Clusters',\n",
    "  'SE_T081_005':      '2000 Total Rural Population',\n",
    "    \n",
    "  'SE_NV322_002':      '2010 Total Urban Population',\n",
    "  'SE_NV322_003':      '2010 Urban Population Inside Urbanized Areas',\n",
    "  'SE_NV322_004':      '2010 Urban Population Inside Urban Clusters',\n",
    "  'SE_NV322_005':      '2010 Total Rural Population',\n",
    "    \n",
    "    \n",
    "  'SE_NV324_002':      '% Change in Total Urban Population',\n",
    "  'SE_NV324_003':      '% Change in Urban Population Inside Urbanized Areas',\n",
    "  'SE_NV324_004':      '% Change in Urban Population Inside Urban Clusters',\n",
    "  'SE_NV324_005':      '% Change in Total Rural Population'\n",
    "\n",
    "    \n",
    "}, inplace=True\n",
    "                )"
   ]
  },
  {
   "cell_type": "code",
   "execution_count": 17,
   "metadata": {
    "deletable": false,
    "editable": false
   },
   "outputs": [],
   "source": [
    "result.rename(columns=\n",
    "{\n",
    "    \n",
    "  'SE_T082_002':      '2000 Total Housing Units in Urban Areas',\n",
    "  'SE_T082_003':      '2000 Housing Units Inside Urbanized Areas',\n",
    "  'SE_T082_004':      '2000 Housing Units Inside Urban Clusters',\n",
    "  'SE_T082_005':      '2000 Total Housing Units in Rural Areas',\n",
    "    \n",
    "  'SE_NV326_002':      '2010 Total Housing Units in Urban Areas',\n",
    "  'SE_NV326_003':      '2010 Housing Units Inside Urbanized Areas',\n",
    "  'SE_NV326_004':      '2010 Housing Units Inside Urban Clusters',\n",
    "  'SE_NV326_005':      '2010 Total Housing Units in Rural Areas',\n",
    "    \n",
    "    \n",
    "  'SE_NV328_002':      '% Change in Total Housing Units in Urban Areas',\n",
    "  'SE_NV328_003':      '% Change in Housing Units Inside Urbanized Areas',\n",
    "  'SE_NV328_004':      '% Change in Housing Units Inside Urban Clusters',\n",
    "  'SE_NV328_005':      '% Change in Total Housing Units in Rural Areas',\n",
    "    \n",
    "\n",
    "    \n",
    "}, inplace=True\n",
    "                )\n",
    "\n",
    "#State Aggregate Data\n",
    "\n",
    "states.rename(columns=\n",
    "{\n",
    "    \n",
    "  'SE_T082_002':      '2000 Total Housing Units in Urban Areas',\n",
    "  'SE_T082_003':      '2000 Housing Units Inside Urbanized Areas',\n",
    "  'SE_T082_004':      '2000 Housing Units Inside Urban Clusters',\n",
    "  'SE_T082_005':      '2000 Total Housing Units in Rural Areas',\n",
    "    \n",
    "  'SE_NV326_002':      '2010 Total Housing Units in Urban Areas',\n",
    "  'SE_NV326_003':      '2010 Housing Units Inside Urbanized Areas',\n",
    "  'SE_NV326_004':      '2010 Housing Units Inside Urban Clusters',\n",
    "  'SE_NV326_005':      '2010 Total Housing Units in Rural Areas',\n",
    "    \n",
    "    \n",
    "  'SE_NV328_002':      '% Change in Total Housing Units in Urban Areas',\n",
    "  'SE_NV328_003':      '% Change in Housing Units Inside Urbanized Areas',\n",
    "  'SE_NV328_004':      '% Change in Housing Units Inside Urban Clusters',\n",
    "  'SE_NV328_005':      '% Change in Total Housing Units in Rural Areas',\n",
    "    \n",
    "\n",
    "    \n",
    "}, inplace=True\n",
    "                )"
   ]
  },
  {
   "cell_type": "markdown",
   "metadata": {
    "deletable": false,
    "editable": false
   },
   "source": [
    "Truncate Dataframe --> Get Rid of Useless Columns"
   ]
  },
  {
   "cell_type": "code",
   "execution_count": 18,
   "metadata": {
    "deletable": false,
    "editable": false
   },
   "outputs": [],
   "source": [
    "result = result.loc[:, [\"Name\", \"State\", \"Population 2000\", \"Population 2010\", \"Population # Change\", \"Population % Change\", \"# Male 2000\", \"# Female 2000\",\"# Male 2010\",\"# Female 2010\",\"% Difference Male\",\"% Difference Female\",'2000 Under 5 Years','2000 5 to 9 Years','2000 10 to 14 Years','2000 15 to 17 Years','2000 18 to 24 Years','2000 25 to 34 Years','2000 35 to 44 Years','2000 45 to 54 Years','2000 55 to 64 Years','2000 65 and 74 Years','2000 75 to 84 Years','2000 85 Years and Over','2010 Under 5 Years','2010 5 to 9 Years','2010 10 to 14 Years','2010 15 to 17 Years','2010 18 to 24 Years','2010 25 to 34 Years','2010 35 to 44 Years','2010 45 to 54 Years','2010 55 to 64 Years','2010 65 and 74 Years','2010 75 to 84 Years','2010 85 Years and Over','% Difference Age Under 5 Years','% Difference Age 5 to 9 Years','% Difference Age 10 to 14 Years','% Difference Age 15 to 17 Years','% Difference Age 18 to 24 Years','% Difference Age 25 to 34 Years','% Difference Age 35 to 44 Years','% Difference Age 45 to 54 Years','% Difference Age 55 to 64 Years','% Difference Age 65 and 74 Years','% Difference Age 75 to 84 Years','% Difference Age 85 Years and Over','2000 White Alone','2000 Black or African American Alone','2000 American Indian and Alaska Native Alone','2000 Asian Alone','2000 Native Hawaiian and Other Pacific Islander Alone','2000 Some Other Race Alone','2000 Two or More Races','2010 White Alone','2010 Black or African American Alone','2010 American Indian and Alaska Native Alone','2010 Asian Alone','2010 Native Hawaiian and Other Pacific Islander Alone','2010 Some Other Race Alone','2010 Two or More Races','% Difference Race White Alone','% Difference Race Black or African American Alone','% Difference Race American Indian and Alaska Native Alone','% Difference Race Asian Alone','% Difference Race Native Hawaiian and Other Pacific Islander Alone','% Difference Race Some Other Race Alone','% Difference Race Two or More Races','2000 Not Hispanic or Latino','2000 Hispanic or Latino','2010 Not Hispanic or Latino','2010 Hispanic or Latino','% Difference Not Hispanic or Latino','% Difference Hispanic or Latino','2000 # Occupied Housing Units','2000 # 1-Person Household','2000 # 2-Person Household','2000 # 3-Person Household','2000 # 4-Person Household','2000 # 5-Person Household','2000 # 6-Person Household','2000 # 7-or-More Person Household','2010 # Occupied Housing Units','2010 # 1-Person Household','2010 # 2-Person Household','2010 # 3-Person Household','2010 # 4-Person Household','2010 # 5-Person Household','2010 # 6-Person Household','2010 # 7-or-More Person Household','% Change in # Occupied Housing Units','% Change in # 1-Person Household','% Change in # 2-Person Household','% Change in # 3-Person Household','% Change in # 4-Person Household','% Change in # 5-Person Household','% Change in # 6-Person Household','% Change in # 7-or-More Person Household','2000 # Units Owner Occupied','2000 # Units Renter Occupied','2010 # Owner Occupied','2010 # Renter Occupied','% Difference in # Owner Occupied','% Difference in # Renter Occupied','2000 Housing Units Occupied','2000 Housing Unites Vacant','2010 Housing Units Occupied','2010 Housing Unites Vacant','% Change in Housing Units Occupied','% Change in Housing Unites Vacant','2000 Vacant Housing Units For Rent','2000 Vacant Housing Units Rented or Sold, Not Occupied','2000 Vacant Housing Units For Sale Only','2000 Vacant Housing Units For Seasonal, Recreational, or Occasional Use','2000 Vacant Housing Units For Migrant Workers','2000 Vacant Housing Units Other Vacant','2010 Vacant Housing Units For Rent','2010 Vacant Housing Units Rented or Sold, Not Occupied','2010 Vacant Housing Units For Sale Only','2010 Vacant Housing Units For Seasonal, Recreational, or Occasional Use','2010 Vacant Housing Units For Migrant Workers','2010 Vacant Housing Units Other Vacant','% Change in Vacant Housing Units For Rent','% Change in Vacant Housing Units Rented or Sold, Not Occupied','% Change in Vacant Housing Units For Sale Only','% Change in Vacant Housing Units For Seasonal, Recreational, or Occasional Use','% Change in Vacant Housing Units For Migrant Workers','% Change in Vacant Housing Units Other Vacant','2000 Total Urban Population','2000 Urban Population Inside Urbanized Areas','2000 Urban Population Inside Urban Clusters','2000 Total Rural Population','2010 Total Urban Population','2010 Urban Population Inside Urbanized Areas','2010 Urban Population Inside Urban Clusters','2010 Total Rural Population','% Change in Total Urban Population','% Change in Urban Population Inside Urbanized Areas','% Change in Urban Population Inside Urban Clusters','% Change in Total Rural Population','2000 Total Housing Units in Urban Areas','2000 Housing Units Inside Urbanized Areas','2000 Housing Units Inside Urban Clusters','2000 Total Housing Units in Rural Areas','2010 Total Housing Units in Urban Areas','2010 Housing Units Inside Urbanized Areas','2010 Housing Units Inside Urban Clusters','2010 Total Housing Units in Rural Areas','% Change in Total Housing Units in Urban Areas','% Change in Housing Units Inside Urbanized Areas','% Change in Housing Units Inside Urban Clusters','% Change in Total Housing Units in Rural Areas']]"
   ]
  },
  {
   "cell_type": "code",
   "execution_count": 19,
   "metadata": {
    "deletable": false,
    "editable": false
   },
   "outputs": [],
   "source": [
    "states = states.loc[:, [\"Name\", \"State\", \"Population 2000\", \"Population 2010\", \"Population # Change\", \"Population % Change\", \"# Male 2000\", \"# Female 2000\",\"# Male 2010\",\"# Female 2010\",\"% Difference Male\",\"% Difference Female\",'2000 Under 5 Years','2000 5 to 9 Years','2000 10 to 14 Years','2000 15 to 17 Years','2000 18 to 24 Years','2000 25 to 34 Years','2000 35 to 44 Years','2000 45 to 54 Years','2000 55 to 64 Years','2000 65 and 74 Years','2000 75 to 84 Years','2000 85 Years and Over','2010 Under 5 Years','2010 5 to 9 Years','2010 10 to 14 Years','2010 15 to 17 Years','2010 18 to 24 Years','2010 25 to 34 Years','2010 35 to 44 Years','2010 45 to 54 Years','2010 55 to 64 Years','2010 65 and 74 Years','2010 75 to 84 Years','2010 85 Years and Over','% Difference Age Under 5 Years','% Difference Age 5 to 9 Years','% Difference Age 10 to 14 Years','% Difference Age 15 to 17 Years','% Difference Age 18 to 24 Years','% Difference Age 25 to 34 Years','% Difference Age 35 to 44 Years','% Difference Age 45 to 54 Years','% Difference Age 55 to 64 Years','% Difference Age 65 and 74 Years','% Difference Age 75 to 84 Years','% Difference Age 85 Years and Over','2000 White Alone','2000 Black or African American Alone','2000 American Indian and Alaska Native Alone','2000 Asian Alone','2000 Native Hawaiian and Other Pacific Islander Alone','2000 Some Other Race Alone','2000 Two or More Races','2010 White Alone','2010 Black or African American Alone','2010 American Indian and Alaska Native Alone','2010 Asian Alone','2010 Native Hawaiian and Other Pacific Islander Alone','2010 Some Other Race Alone','2010 Two or More Races','% Difference Race White Alone','% Difference Race Black or African American Alone','% Difference Race American Indian and Alaska Native Alone','% Difference Race Asian Alone','% Difference Race Native Hawaiian and Other Pacific Islander Alone','% Difference Race Some Other Race Alone','% Difference Race Two or More Races','2000 Not Hispanic or Latino','2000 Hispanic or Latino','2010 Not Hispanic or Latino','2010 Hispanic or Latino','% Difference Not Hispanic or Latino','% Difference Hispanic or Latino','2000 # Occupied Housing Units','2000 # 1-Person Household','2000 # 2-Person Household','2000 # 3-Person Household','2000 # 4-Person Household','2000 # 5-Person Household','2000 # 6-Person Household','2000 # 7-or-More Person Household','2010 # Occupied Housing Units','2010 # 1-Person Household','2010 # 2-Person Household','2010 # 3-Person Household','2010 # 4-Person Household','2010 # 5-Person Household','2010 # 6-Person Household','2010 # 7-or-More Person Household','% Change in # Occupied Housing Units','% Change in # 1-Person Household','% Change in # 2-Person Household','% Change in # 3-Person Household','% Change in # 4-Person Household','% Change in # 5-Person Household','% Change in # 6-Person Household','% Change in # 7-or-More Person Household','2000 # Units Owner Occupied','2000 # Units Renter Occupied','2010 # Owner Occupied','2010 # Renter Occupied','% Difference in # Owner Occupied','% Difference in # Renter Occupied','2000 Housing Units Occupied','2000 Housing Unites Vacant','2010 Housing Units Occupied','2010 Housing Unites Vacant','% Change in Housing Units Occupied','% Change in Housing Unites Vacant','2000 Vacant Housing Units For Rent','2000 Vacant Housing Units Rented or Sold, Not Occupied','2000 Vacant Housing Units For Sale Only','2000 Vacant Housing Units For Seasonal, Recreational, or Occasional Use','2000 Vacant Housing Units For Migrant Workers','2000 Vacant Housing Units Other Vacant','2010 Vacant Housing Units For Rent','2010 Vacant Housing Units Rented or Sold, Not Occupied','2010 Vacant Housing Units For Sale Only','2010 Vacant Housing Units For Seasonal, Recreational, or Occasional Use','2010 Vacant Housing Units For Migrant Workers','2010 Vacant Housing Units Other Vacant','% Change in Vacant Housing Units For Rent','% Change in Vacant Housing Units Rented or Sold, Not Occupied','% Change in Vacant Housing Units For Sale Only','% Change in Vacant Housing Units For Seasonal, Recreational, or Occasional Use','% Change in Vacant Housing Units For Migrant Workers','% Change in Vacant Housing Units Other Vacant','2000 Total Urban Population','2000 Urban Population Inside Urbanized Areas','2000 Urban Population Inside Urban Clusters','2000 Total Rural Population','2010 Total Urban Population','2010 Urban Population Inside Urbanized Areas','2010 Urban Population Inside Urban Clusters','2010 Total Rural Population','% Change in Total Urban Population','% Change in Urban Population Inside Urbanized Areas','% Change in Urban Population Inside Urban Clusters','% Change in Total Rural Population','2000 Total Housing Units in Urban Areas','2000 Housing Units Inside Urbanized Areas','2000 Housing Units Inside Urban Clusters','2000 Total Housing Units in Rural Areas','2010 Total Housing Units in Urban Areas','2010 Housing Units Inside Urbanized Areas','2010 Housing Units Inside Urban Clusters','2010 Total Housing Units in Rural Areas','% Change in Total Housing Units in Urban Areas','% Change in Housing Units Inside Urbanized Areas','% Change in Housing Units Inside Urban Clusters','% Change in Total Housing Units in Rural Areas']]"
   ]
  },
  {
   "cell_type": "code",
   "execution_count": 20,
   "metadata": {
    "deletable": false,
    "editable": false
   },
   "outputs": [],
   "source": [
    "assert result.shape == (3371, 153)\n",
    "assert states.shape == (7, 153)"
   ]
  },
  {
   "cell_type": "code",
   "execution_count": 21,
   "metadata": {
    "deletable": false,
    "editable": false
   },
   "outputs": [
    {
     "data": {
      "text/html": [
       "<div>\n",
       "<style scoped>\n",
       "    .dataframe tbody tr th:only-of-type {\n",
       "        vertical-align: middle;\n",
       "    }\n",
       "\n",
       "    .dataframe tbody tr th {\n",
       "        vertical-align: top;\n",
       "    }\n",
       "\n",
       "    .dataframe thead th {\n",
       "        text-align: right;\n",
       "    }\n",
       "</style>\n",
       "<table border=\"1\" class=\"dataframe\">\n",
       "  <thead>\n",
       "    <tr style=\"text-align: right;\">\n",
       "      <th></th>\n",
       "      <th>Name</th>\n",
       "      <th>State</th>\n",
       "      <th>Population 2000</th>\n",
       "      <th>Population 2010</th>\n",
       "      <th>Population # Change</th>\n",
       "      <th>Population % Change</th>\n",
       "      <th># Male 2000</th>\n",
       "      <th># Female 2000</th>\n",
       "      <th># Male 2010</th>\n",
       "      <th># Female 2010</th>\n",
       "      <th>...</th>\n",
       "      <th>2000 Housing Units Inside Urban Clusters</th>\n",
       "      <th>2000 Total Housing Units in Rural Areas</th>\n",
       "      <th>2010 Total Housing Units in Urban Areas</th>\n",
       "      <th>2010 Housing Units Inside Urbanized Areas</th>\n",
       "      <th>2010 Housing Units Inside Urban Clusters</th>\n",
       "      <th>2010 Total Housing Units in Rural Areas</th>\n",
       "      <th>% Change in Total Housing Units in Urban Areas</th>\n",
       "      <th>% Change in Housing Units Inside Urbanized Areas</th>\n",
       "      <th>% Change in Housing Units Inside Urban Clusters</th>\n",
       "      <th>% Change in Total Housing Units in Rural Areas</th>\n",
       "    </tr>\n",
       "  </thead>\n",
       "  <tbody>\n",
       "    <tr>\n",
       "      <th>1</th>\n",
       "      <td>Census Tract 2101, St. Louis County, Missouri</td>\n",
       "      <td>29</td>\n",
       "      <td>6298</td>\n",
       "      <td>6017</td>\n",
       "      <td>-281</td>\n",
       "      <td>-4.67010137942496</td>\n",
       "      <td>3091.0584</td>\n",
       "      <td>3206.9416</td>\n",
       "      <td>2735</td>\n",
       "      <td>3282</td>\n",
       "      <td>...</td>\n",
       "      <td>0</td>\n",
       "      <td>373.1024</td>\n",
       "      <td>2265</td>\n",
       "      <td>2265</td>\n",
       "      <td>0</td>\n",
       "      <td>329</td>\n",
       "      <td>3.95164967825933</td>\n",
       "      <td>3.95164967825933</td>\n",
       "      <td>NaN</td>\n",
       "      <td>-11.8204546526637</td>\n",
       "    </tr>\n",
       "  </tbody>\n",
       "</table>\n",
       "<p>1 rows × 153 columns</p>\n",
       "</div>"
      ],
      "text/plain": [
       "0                                           Name State Population 2000  \\\n",
       "1  Census Tract 2101, St. Louis County, Missouri    29            6298   \n",
       "\n",
       "0 Population 2010 Population # Change Population % Change # Male 2000  \\\n",
       "1            6017                -281   -4.67010137942496   3091.0584   \n",
       "\n",
       "0 # Female 2000 # Male 2010 # Female 2010  \\\n",
       "1     3206.9416        2735          3282   \n",
       "\n",
       "0                      ...                        \\\n",
       "1                      ...                         \n",
       "\n",
       "0 2000 Housing Units Inside Urban Clusters  \\\n",
       "1                                        0   \n",
       "\n",
       "0 2000 Total Housing Units in Rural Areas  \\\n",
       "1                                373.1024   \n",
       "\n",
       "0 2010 Total Housing Units in Urban Areas  \\\n",
       "1                                    2265   \n",
       "\n",
       "0 2010 Housing Units Inside Urbanized Areas  \\\n",
       "1                                      2265   \n",
       "\n",
       "0 2010 Housing Units Inside Urban Clusters  \\\n",
       "1                                        0   \n",
       "\n",
       "0 2010 Total Housing Units in Rural Areas  \\\n",
       "1                                     329   \n",
       "\n",
       "0 % Change in Total Housing Units in Urban Areas  \\\n",
       "1                               3.95164967825933   \n",
       "\n",
       "0 % Change in Housing Units Inside Urbanized Areas  \\\n",
       "1                                 3.95164967825933   \n",
       "\n",
       "0 % Change in Housing Units Inside Urban Clusters  \\\n",
       "1                                             NaN   \n",
       "\n",
       "0 % Change in Total Housing Units in Rural Areas  \n",
       "1                              -11.8204546526637  \n",
       "\n",
       "[1 rows x 153 columns]"
      ]
     },
     "execution_count": 21,
     "metadata": {},
     "output_type": "execute_result"
    }
   ],
   "source": [
    "result.head(1)"
   ]
  },
  {
   "cell_type": "code",
   "execution_count": 22,
   "metadata": {},
   "outputs": [
    {
     "data": {
      "text/html": [
       "<div>\n",
       "<style scoped>\n",
       "    .dataframe tbody tr th:only-of-type {\n",
       "        vertical-align: middle;\n",
       "    }\n",
       "\n",
       "    .dataframe tbody tr th {\n",
       "        vertical-align: top;\n",
       "    }\n",
       "\n",
       "    .dataframe thead th {\n",
       "        text-align: right;\n",
       "    }\n",
       "</style>\n",
       "<table border=\"1\" class=\"dataframe\">\n",
       "  <thead>\n",
       "    <tr style=\"text-align: right;\">\n",
       "      <th></th>\n",
       "      <th>Name</th>\n",
       "      <th>State</th>\n",
       "      <th>Population 2000</th>\n",
       "      <th>Population 2010</th>\n",
       "      <th>Population # Change</th>\n",
       "      <th>Population % Change</th>\n",
       "      <th># Male 2000</th>\n",
       "      <th># Female 2000</th>\n",
       "      <th># Male 2010</th>\n",
       "      <th># Female 2010</th>\n",
       "      <th>...</th>\n",
       "      <th>2000 Housing Units Inside Urban Clusters</th>\n",
       "      <th>2000 Total Housing Units in Rural Areas</th>\n",
       "      <th>2010 Total Housing Units in Urban Areas</th>\n",
       "      <th>2010 Housing Units Inside Urbanized Areas</th>\n",
       "      <th>2010 Housing Units Inside Urban Clusters</th>\n",
       "      <th>2010 Total Housing Units in Rural Areas</th>\n",
       "      <th>% Change in Total Housing Units in Urban Areas</th>\n",
       "      <th>% Change in Housing Units Inside Urbanized Areas</th>\n",
       "      <th>% Change in Housing Units Inside Urban Clusters</th>\n",
       "      <th>% Change in Total Housing Units in Rural Areas</th>\n",
       "    </tr>\n",
       "  </thead>\n",
       "  <tbody>\n",
       "    <tr>\n",
       "      <th>1</th>\n",
       "      <td>California</td>\n",
       "      <td>6</td>\n",
       "      <td>33871657</td>\n",
       "      <td>37253956</td>\n",
       "      <td>3382299</td>\n",
       "      <td>9.07903311</td>\n",
       "      <td>16874905.42</td>\n",
       "      <td>16996751.58</td>\n",
       "      <td>18517830</td>\n",
       "      <td>18736126</td>\n",
       "      <td>...</td>\n",
       "      <td>751606.6308</td>\n",
       "      <td>826647.8837</td>\n",
       "      <td>12814688</td>\n",
       "      <td>12051891</td>\n",
       "      <td>762797</td>\n",
       "      <td>865393</td>\n",
       "      <td>12.52986991</td>\n",
       "      <td>13.31008266</td>\n",
       "      <td>1.488859829</td>\n",
       "      <td>4.687015725</td>\n",
       "    </tr>\n",
       "    <tr>\n",
       "      <th>2</th>\n",
       "      <td>Colorado</td>\n",
       "      <td>8</td>\n",
       "      <td>4301263</td>\n",
       "      <td>5029196</td>\n",
       "      <td>727933</td>\n",
       "      <td>14.47414259</td>\n",
       "      <td>2165982.445</td>\n",
       "      <td>2135280.555</td>\n",
       "      <td>2520662</td>\n",
       "      <td>2508534</td>\n",
       "      <td>...</td>\n",
       "      <td>182118.3143</td>\n",
       "      <td>326087.0948</td>\n",
       "      <td>1838986</td>\n",
       "      <td>1617575</td>\n",
       "      <td>221411</td>\n",
       "      <td>373912</td>\n",
       "      <td>24.09240248</td>\n",
       "      <td>24.44495987</td>\n",
       "      <td>21.57536207</td>\n",
       "      <td>14.66629804</td>\n",
       "    </tr>\n",
       "    <tr>\n",
       "      <th>3</th>\n",
       "      <td>District of Columbia</td>\n",
       "      <td>11</td>\n",
       "      <td>572059</td>\n",
       "      <td>601723</td>\n",
       "      <td>29664</td>\n",
       "      <td>4.929843134</td>\n",
       "      <td>269364.8879</td>\n",
       "      <td>302694.1121</td>\n",
       "      <td>284222</td>\n",
       "      <td>317501</td>\n",
       "      <td>...</td>\n",
       "      <td>0</td>\n",
       "      <td>0</td>\n",
       "      <td>296719</td>\n",
       "      <td>296719</td>\n",
       "      <td>0</td>\n",
       "      <td>0</td>\n",
       "      <td>7.967702731</td>\n",
       "      <td>7.967702731</td>\n",
       "      <td>NaN</td>\n",
       "      <td>NaN</td>\n",
       "    </tr>\n",
       "    <tr>\n",
       "      <th>4</th>\n",
       "      <td>Missouri</td>\n",
       "      <td>29</td>\n",
       "      <td>5591992</td>\n",
       "      <td>5988927</td>\n",
       "      <td>396935</td>\n",
       "      <td>6.627814966</td>\n",
       "      <td>2716984.853</td>\n",
       "      <td>2875007.147</td>\n",
       "      <td>2933477</td>\n",
       "      <td>3055450</td>\n",
       "      <td>...</td>\n",
       "      <td>NaN</td>\n",
       "      <td>NaN</td>\n",
       "      <td>NaN</td>\n",
       "      <td>NaN</td>\n",
       "      <td>NaN</td>\n",
       "      <td>NaN</td>\n",
       "      <td>NaN</td>\n",
       "      <td>NaN</td>\n",
       "      <td>NaN</td>\n",
       "      <td>NaN</td>\n",
       "    </tr>\n",
       "    <tr>\n",
       "      <th>5</th>\n",
       "      <td>New York</td>\n",
       "      <td>36</td>\n",
       "      <td>18974503</td>\n",
       "      <td>19378102</td>\n",
       "      <td>403599</td>\n",
       "      <td>2.082758157</td>\n",
       "      <td>9145889.75</td>\n",
       "      <td>9828613.25</td>\n",
       "      <td>9377147</td>\n",
       "      <td>10000955</td>\n",
       "      <td>...</td>\n",
       "      <td>468093.8354</td>\n",
       "      <td>1107951.638</td>\n",
       "      <td>6935786</td>\n",
       "      <td>6492127</td>\n",
       "      <td>443659</td>\n",
       "      <td>1172317</td>\n",
       "      <td>5.558082069</td>\n",
       "      <td>6.384835567</td>\n",
       "      <td>-5.220072035</td>\n",
       "      <td>5.809401764</td>\n",
       "    </tr>\n",
       "  </tbody>\n",
       "</table>\n",
       "<p>5 rows × 153 columns</p>\n",
       "</div>"
      ],
      "text/plain": [
       "0                  Name State Population 2000 Population 2010  \\\n",
       "1            California     6        33871657        37253956   \n",
       "2              Colorado     8         4301263         5029196   \n",
       "3  District of Columbia    11          572059          601723   \n",
       "4              Missouri    29         5591992         5988927   \n",
       "5              New York    36        18974503        19378102   \n",
       "\n",
       "0 Population # Change Population % Change  # Male 2000 # Female 2000  \\\n",
       "1             3382299          9.07903311  16874905.42   16996751.58   \n",
       "2              727933         14.47414259  2165982.445   2135280.555   \n",
       "3               29664         4.929843134  269364.8879   302694.1121   \n",
       "4              396935         6.627814966  2716984.853   2875007.147   \n",
       "5              403599         2.082758157   9145889.75    9828613.25   \n",
       "\n",
       "0 # Male 2010 # Female 2010                      ...                        \\\n",
       "1    18517830      18736126                      ...                         \n",
       "2     2520662       2508534                      ...                         \n",
       "3      284222        317501                      ...                         \n",
       "4     2933477       3055450                      ...                         \n",
       "5     9377147      10000955                      ...                         \n",
       "\n",
       "0 2000 Housing Units Inside Urban Clusters  \\\n",
       "1                              751606.6308   \n",
       "2                              182118.3143   \n",
       "3                                        0   \n",
       "4                                      NaN   \n",
       "5                              468093.8354   \n",
       "\n",
       "0 2000 Total Housing Units in Rural Areas  \\\n",
       "1                             826647.8837   \n",
       "2                             326087.0948   \n",
       "3                                       0   \n",
       "4                                     NaN   \n",
       "5                             1107951.638   \n",
       "\n",
       "0 2010 Total Housing Units in Urban Areas  \\\n",
       "1                                12814688   \n",
       "2                                 1838986   \n",
       "3                                  296719   \n",
       "4                                     NaN   \n",
       "5                                 6935786   \n",
       "\n",
       "0 2010 Housing Units Inside Urbanized Areas  \\\n",
       "1                                  12051891   \n",
       "2                                   1617575   \n",
       "3                                    296719   \n",
       "4                                       NaN   \n",
       "5                                   6492127   \n",
       "\n",
       "0 2010 Housing Units Inside Urban Clusters  \\\n",
       "1                                   762797   \n",
       "2                                   221411   \n",
       "3                                        0   \n",
       "4                                      NaN   \n",
       "5                                   443659   \n",
       "\n",
       "0 2010 Total Housing Units in Rural Areas  \\\n",
       "1                                  865393   \n",
       "2                                  373912   \n",
       "3                                       0   \n",
       "4                                     NaN   \n",
       "5                                 1172317   \n",
       "\n",
       "0 % Change in Total Housing Units in Urban Areas  \\\n",
       "1                                    12.52986991   \n",
       "2                                    24.09240248   \n",
       "3                                    7.967702731   \n",
       "4                                            NaN   \n",
       "5                                    5.558082069   \n",
       "\n",
       "0 % Change in Housing Units Inside Urbanized Areas  \\\n",
       "1                                      13.31008266   \n",
       "2                                      24.44495987   \n",
       "3                                      7.967702731   \n",
       "4                                              NaN   \n",
       "5                                      6.384835567   \n",
       "\n",
       "0 % Change in Housing Units Inside Urban Clusters  \\\n",
       "1                                     1.488859829   \n",
       "2                                     21.57536207   \n",
       "3                                             NaN   \n",
       "4                                             NaN   \n",
       "5                                    -5.220072035   \n",
       "\n",
       "0 % Change in Total Housing Units in Rural Areas  \n",
       "1                                    4.687015725  \n",
       "2                                    14.66629804  \n",
       "3                                            NaN  \n",
       "4                                            NaN  \n",
       "5                                    5.809401764  \n",
       "\n",
       "[5 rows x 153 columns]"
      ]
     },
     "execution_count": 22,
     "metadata": {},
     "output_type": "execute_result"
    }
   ],
   "source": [
    "states.head()"
   ]
  },
  {
   "cell_type": "markdown",
   "metadata": {},
   "source": [
    "At this point, both \"result\" and \"states\" dataframes should be cleaned."
   ]
  },
  {
   "cell_type": "markdown",
   "metadata": {},
   "source": [
    "# Creating Labels For Our Dataset"
   ]
  },
  {
   "cell_type": "markdown",
   "metadata": {},
   "source": [
    "Borrowing from other studies we've read for this project, we created labels of \"1\": gentrified, \"0\": not gentrified based on three factors: % difference in # units renter occupied, population % change, and % difference in Hispanic or Latino population. If all three factors for a census tract is above the respective state average, the census tract is lended a label of \"1\". Else, \"0\". Please see project writeup for more details."
   ]
  },
  {
   "cell_type": "code",
   "execution_count": 23,
   "metadata": {},
   "outputs": [],
   "source": [
    "inter = result"
   ]
  },
  {
   "cell_type": "code",
   "execution_count": 24,
   "metadata": {},
   "outputs": [
    {
     "data": {
      "text/html": [
       "<div>\n",
       "<style scoped>\n",
       "    .dataframe tbody tr th:only-of-type {\n",
       "        vertical-align: middle;\n",
       "    }\n",
       "\n",
       "    .dataframe tbody tr th {\n",
       "        vertical-align: top;\n",
       "    }\n",
       "\n",
       "    .dataframe thead th {\n",
       "        text-align: right;\n",
       "    }\n",
       "</style>\n",
       "<table border=\"1\" class=\"dataframe\">\n",
       "  <thead>\n",
       "    <tr style=\"text-align: right;\">\n",
       "      <th></th>\n",
       "      <th>State</th>\n",
       "      <th>% Difference in # Renter Occupied</th>\n",
       "      <th>Population % Change</th>\n",
       "      <th>% Difference Hispanic or Latino</th>\n",
       "    </tr>\n",
       "  </thead>\n",
       "  <tbody>\n",
       "    <tr>\n",
       "      <th>1</th>\n",
       "      <td>6</td>\n",
       "      <td>11.81610771</td>\n",
       "      <td>9.07903311</td>\n",
       "      <td>27.78585739</td>\n",
       "    </tr>\n",
       "    <tr>\n",
       "      <th>2</th>\n",
       "      <td>8</td>\n",
       "      <td>25.39489441</td>\n",
       "      <td>14.47414259</td>\n",
       "      <td>41.20373981</td>\n",
       "    </tr>\n",
       "    <tr>\n",
       "      <th>3</th>\n",
       "      <td>11</td>\n",
       "      <td>5.130319324</td>\n",
       "      <td>4.929843134</td>\n",
       "      <td>21.78787158</td>\n",
       "    </tr>\n",
       "    <tr>\n",
       "      <th>4</th>\n",
       "      <td>29</td>\n",
       "      <td>NaN</td>\n",
       "      <td>6.627814966</td>\n",
       "      <td>NaN</td>\n",
       "    </tr>\n",
       "    <tr>\n",
       "      <th>5</th>\n",
       "      <td>36</td>\n",
       "      <td>3.100391668</td>\n",
       "      <td>2.082758157</td>\n",
       "      <td>19.18302693</td>\n",
       "    </tr>\n",
       "    <tr>\n",
       "      <th>6</th>\n",
       "      <td>42</td>\n",
       "      <td>11.418086</td>\n",
       "      <td>3.31700857</td>\n",
       "      <td>82.61380222</td>\n",
       "    </tr>\n",
       "    <tr>\n",
       "      <th>7</th>\n",
       "      <td>48</td>\n",
       "      <td>20.97097326</td>\n",
       "      <td>17.07613523</td>\n",
       "      <td>41.85105085</td>\n",
       "    </tr>\n",
       "  </tbody>\n",
       "</table>\n",
       "</div>"
      ],
      "text/plain": [
       "0 State % Difference in # Renter Occupied Population % Change  \\\n",
       "1     6                       11.81610771          9.07903311   \n",
       "2     8                       25.39489441         14.47414259   \n",
       "3    11                       5.130319324         4.929843134   \n",
       "4    29                               NaN         6.627814966   \n",
       "5    36                       3.100391668         2.082758157   \n",
       "6    42                         11.418086          3.31700857   \n",
       "7    48                       20.97097326         17.07613523   \n",
       "\n",
       "0 % Difference Hispanic or Latino  \n",
       "1                     27.78585739  \n",
       "2                     41.20373981  \n",
       "3                     21.78787158  \n",
       "4                             NaN  \n",
       "5                     19.18302693  \n",
       "6                     82.61380222  \n",
       "7                     41.85105085  "
      ]
     },
     "execution_count": 24,
     "metadata": {},
     "output_type": "execute_result"
    }
   ],
   "source": [
    "states = states.loc[:, [\"State\", \"% Difference in # Renter Occupied\", \"Population % Change\", \"% Difference Hispanic or Latino\"]]\n",
    "states"
   ]
  },
  {
   "cell_type": "markdown",
   "metadata": {},
   "source": [
    "We decided to impute the NaN values of Missouri with 0 since we figured the Missouri Latino population is very negligible, (~3% of the total population)."
   ]
  },
  {
   "cell_type": "code",
   "execution_count": 25,
   "metadata": {},
   "outputs": [],
   "source": [
    "states.fillna(0, inplace=True)"
   ]
  },
  {
   "cell_type": "markdown",
   "metadata": {},
   "source": [
    "Perform a Left Outer Join with \"inter\" and \"states\" dataframes to compare aggregate state data with census tract data in order to create labels."
   ]
  },
  {
   "cell_type": "code",
   "execution_count": 26,
   "metadata": {},
   "outputs": [],
   "source": [
    "joined = inter.merge(states, how=\"left\", on=\"State\")\n",
    "for col in joined.columns.values:\n",
    "    col_mean = np.mean(pd.to_numeric(joined[col], errors='coerce'))\n",
    "    joined[col] = pd.to_numeric(joined[col], errors='coerce').fillna(col_mean, downcast='infer')"
   ]
  },
  {
   "cell_type": "code",
   "execution_count": 27,
   "metadata": {},
   "outputs": [],
   "source": [
    "joined[\"y\"] = (joined[\"% Difference in # Renter Occupied_y\"] < joined[\"% Difference in # Renter Occupied_x\"]) & (joined[\"Population % Change_y\"] < joined[\"Population % Change_x\"]) & (joined[\"% Difference Hispanic or Latino_y\"] < joined[\"% Difference Hispanic or Latino_x\"])"
   ]
  },
  {
   "cell_type": "code",
   "execution_count": 28,
   "metadata": {},
   "outputs": [],
   "source": [
    "result[\"y\"] = joined[\"y\"]"
   ]
  },
  {
   "cell_type": "code",
   "execution_count": 29,
   "metadata": {},
   "outputs": [
    {
     "name": "stdout",
     "output_type": "stream",
     "text": [
      "% of Gentrified Locales (Census Tracts):  0.07475526549985168\n"
     ]
    }
   ],
   "source": [
    "print(\"% of Gentrified Locales (Census Tracts): \", result[result[\"y\"] == 1].shape[0]/result.shape[0])"
   ]
  },
  {
   "cell_type": "markdown",
   "metadata": {},
   "source": [
    "Labels were generated off of state aggregate data for % Difference in number of units renter occupied, % Change in population, and % change in Hispanic/Latino population."
   ]
  },
  {
   "cell_type": "code",
   "execution_count": 30,
   "metadata": {},
   "outputs": [],
   "source": [
    "y = result[\"y\"]"
   ]
  },
  {
   "cell_type": "markdown",
   "metadata": {},
   "source": [
    "# EDA Plots"
   ]
  },
  {
   "cell_type": "markdown",
   "metadata": {},
   "source": [
    "Here, we will create data visualization graphs of columns in our \"result\" dataframe to make more sense of our data."
   ]
  },
  {
   "cell_type": "markdown",
   "metadata": {},
   "source": [
    "1.) We are interested in seeing a side-by-side comparison of how a % change in rural and urban populations differ by gentrified and non-gentrified areas:'% Change in Total Urban Population', '% Change in Total Rural Population'."
   ]
  },
  {
   "cell_type": "code",
   "execution_count": 43,
   "metadata": {},
   "outputs": [
    {
     "ename": "ValueError",
     "evalue": "num must be 1 <= num <= 0, not 1",
     "output_type": "error",
     "traceback": [
      "\u001b[0;31m---------------------------------------------------------------------------\u001b[0m",
      "\u001b[0;31mValueError\u001b[0m                                Traceback (most recent call last)",
      "\u001b[0;32m<ipython-input-43-6e356921ef63>\u001b[0m in \u001b[0;36m<module>\u001b[0;34m()\u001b[0m\n\u001b[1;32m      2\u001b[0m \u001b[0;32mimport\u001b[0m \u001b[0mmatplotlib\u001b[0m\u001b[0;34m.\u001b[0m\u001b[0mpyplot\u001b[0m \u001b[0;32mas\u001b[0m \u001b[0mplt\u001b[0m\u001b[0;34m\u001b[0m\u001b[0m\n\u001b[1;32m      3\u001b[0m \u001b[0mplt\u001b[0m\u001b[0;34m.\u001b[0m\u001b[0mfigure\u001b[0m\u001b[0;34m(\u001b[0m\u001b[0mfigsize\u001b[0m\u001b[0;34m=\u001b[0m\u001b[0;34m(\u001b[0m\u001b[0;36m12\u001b[0m\u001b[0;34m,\u001b[0m \u001b[0;36m8\u001b[0m\u001b[0;34m)\u001b[0m\u001b[0;34m)\u001b[0m\u001b[0;34m\u001b[0m\u001b[0m\n\u001b[0;32m----> 4\u001b[0;31m \u001b[0mresult\u001b[0m\u001b[0;34m[\u001b[0m\u001b[0mresult\u001b[0m\u001b[0;34m[\u001b[0m\u001b[0;34m\"y\"\u001b[0m\u001b[0;34m]\u001b[0m\u001b[0;34m==\u001b[0m\u001b[0;36m1\u001b[0m\u001b[0;34m]\u001b[0m\u001b[0;34m.\u001b[0m\u001b[0mhist\u001b[0m\u001b[0;34m(\u001b[0m\u001b[0;34m'% Change in Total Urban Population'\u001b[0m\u001b[0;34m,\u001b[0m \u001b[0mbins\u001b[0m\u001b[0;34m=\u001b[0m\u001b[0;34m[\u001b[0m\u001b[0;36m0\u001b[0m\u001b[0;34m,\u001b[0m \u001b[0;36m25\u001b[0m\u001b[0;34m,\u001b[0m \u001b[0;36m50\u001b[0m\u001b[0;34m,\u001b[0m \u001b[0;36m75\u001b[0m\u001b[0;34m,\u001b[0m \u001b[0;36m100\u001b[0m\u001b[0;34m,\u001b[0m \u001b[0;36m125\u001b[0m\u001b[0;34m,\u001b[0m \u001b[0;36m150\u001b[0m\u001b[0;34m,\u001b[0m \u001b[0;36m175\u001b[0m\u001b[0;34m,\u001b[0m \u001b[0;36m200\u001b[0m\u001b[0;34m]\u001b[0m\u001b[0;34m,\u001b[0m \u001b[0mdensity\u001b[0m\u001b[0;34m=\u001b[0m\u001b[0;32mTrue\u001b[0m\u001b[0;34m)\u001b[0m\u001b[0;34m\u001b[0m\u001b[0m\n\u001b[0m\u001b[1;32m      5\u001b[0m \u001b[0mplt\u001b[0m\u001b[0;34m.\u001b[0m\u001b[0mtitle\u001b[0m\u001b[0;34m(\u001b[0m\u001b[0;34m\"% Change in Total Urban Population, Gentrified Areas\"\u001b[0m\u001b[0;34m,\u001b[0m \u001b[0mfontsize\u001b[0m\u001b[0;34m=\u001b[0m\u001b[0;36m15\u001b[0m\u001b[0;34m)\u001b[0m\u001b[0;34m\u001b[0m\u001b[0m\n\u001b[1;32m      6\u001b[0m \u001b[0mplt\u001b[0m\u001b[0;34m.\u001b[0m\u001b[0mylabel\u001b[0m\u001b[0;34m(\u001b[0m\u001b[0;34m\"# of Census Tracts\"\u001b[0m\u001b[0;34m,\u001b[0m \u001b[0mfontsize\u001b[0m\u001b[0;34m=\u001b[0m\u001b[0;36m15\u001b[0m\u001b[0;34m)\u001b[0m\u001b[0;34m\u001b[0m\u001b[0m\n",
      "\u001b[0;32m~/anaconda3/envs/data-x/lib/python3.6/site-packages/pandas/plotting/_core.py\u001b[0m in \u001b[0;36mhist_frame\u001b[0;34m(data, column, by, grid, xlabelsize, xrot, ylabelsize, yrot, ax, sharex, sharey, figsize, layout, bins, **kwds)\u001b[0m\n\u001b[1;32m   2406\u001b[0m     fig, axes = _subplots(naxes=naxes, ax=ax, squeeze=False,\n\u001b[1;32m   2407\u001b[0m                           \u001b[0msharex\u001b[0m\u001b[0;34m=\u001b[0m\u001b[0msharex\u001b[0m\u001b[0;34m,\u001b[0m \u001b[0msharey\u001b[0m\u001b[0;34m=\u001b[0m\u001b[0msharey\u001b[0m\u001b[0;34m,\u001b[0m \u001b[0mfigsize\u001b[0m\u001b[0;34m=\u001b[0m\u001b[0mfigsize\u001b[0m\u001b[0;34m,\u001b[0m\u001b[0;34m\u001b[0m\u001b[0m\n\u001b[0;32m-> 2408\u001b[0;31m                           layout=layout)\n\u001b[0m\u001b[1;32m   2409\u001b[0m     \u001b[0m_axes\u001b[0m \u001b[0;34m=\u001b[0m \u001b[0m_flatten\u001b[0m\u001b[0;34m(\u001b[0m\u001b[0maxes\u001b[0m\u001b[0;34m)\u001b[0m\u001b[0;34m\u001b[0m\u001b[0m\n\u001b[1;32m   2410\u001b[0m \u001b[0;34m\u001b[0m\u001b[0m\n",
      "\u001b[0;32m~/anaconda3/envs/data-x/lib/python3.6/site-packages/pandas/plotting/_tools.py\u001b[0m in \u001b[0;36m_subplots\u001b[0;34m(naxes, sharex, sharey, squeeze, subplot_kw, ax, layout, layout_type, **fig_kw)\u001b[0m\n\u001b[1;32m    236\u001b[0m \u001b[0;34m\u001b[0m\u001b[0m\n\u001b[1;32m    237\u001b[0m     \u001b[0;31m# Create first subplot separately, so we can share it if requested\u001b[0m\u001b[0;34m\u001b[0m\u001b[0;34m\u001b[0m\u001b[0m\n\u001b[0;32m--> 238\u001b[0;31m     \u001b[0max0\u001b[0m \u001b[0;34m=\u001b[0m \u001b[0mfig\u001b[0m\u001b[0;34m.\u001b[0m\u001b[0madd_subplot\u001b[0m\u001b[0;34m(\u001b[0m\u001b[0mnrows\u001b[0m\u001b[0;34m,\u001b[0m \u001b[0mncols\u001b[0m\u001b[0;34m,\u001b[0m \u001b[0;36m1\u001b[0m\u001b[0;34m,\u001b[0m \u001b[0;34m**\u001b[0m\u001b[0msubplot_kw\u001b[0m\u001b[0;34m)\u001b[0m\u001b[0;34m\u001b[0m\u001b[0m\n\u001b[0m\u001b[1;32m    239\u001b[0m \u001b[0;34m\u001b[0m\u001b[0m\n\u001b[1;32m    240\u001b[0m     \u001b[0;32mif\u001b[0m \u001b[0msharex\u001b[0m\u001b[0;34m:\u001b[0m\u001b[0;34m\u001b[0m\u001b[0m\n",
      "\u001b[0;32m~/anaconda3/envs/data-x/lib/python3.6/site-packages/matplotlib/figure.py\u001b[0m in \u001b[0;36madd_subplot\u001b[0;34m(self, *args, **kwargs)\u001b[0m\n\u001b[1;32m   1237\u001b[0m                     \u001b[0mself\u001b[0m\u001b[0;34m.\u001b[0m\u001b[0m_axstack\u001b[0m\u001b[0;34m.\u001b[0m\u001b[0mremove\u001b[0m\u001b[0;34m(\u001b[0m\u001b[0max\u001b[0m\u001b[0;34m)\u001b[0m\u001b[0;34m\u001b[0m\u001b[0m\n\u001b[1;32m   1238\u001b[0m \u001b[0;34m\u001b[0m\u001b[0m\n\u001b[0;32m-> 1239\u001b[0;31m             \u001b[0ma\u001b[0m \u001b[0;34m=\u001b[0m \u001b[0msubplot_class_factory\u001b[0m\u001b[0;34m(\u001b[0m\u001b[0mprojection_class\u001b[0m\u001b[0;34m)\u001b[0m\u001b[0;34m(\u001b[0m\u001b[0mself\u001b[0m\u001b[0;34m,\u001b[0m \u001b[0;34m*\u001b[0m\u001b[0margs\u001b[0m\u001b[0;34m,\u001b[0m \u001b[0;34m**\u001b[0m\u001b[0mkwargs\u001b[0m\u001b[0;34m)\u001b[0m\u001b[0;34m\u001b[0m\u001b[0m\n\u001b[0m\u001b[1;32m   1240\u001b[0m         \u001b[0mself\u001b[0m\u001b[0;34m.\u001b[0m\u001b[0m_axstack\u001b[0m\u001b[0;34m.\u001b[0m\u001b[0madd\u001b[0m\u001b[0;34m(\u001b[0m\u001b[0mkey\u001b[0m\u001b[0;34m,\u001b[0m \u001b[0ma\u001b[0m\u001b[0;34m)\u001b[0m\u001b[0;34m\u001b[0m\u001b[0m\n\u001b[1;32m   1241\u001b[0m         \u001b[0mself\u001b[0m\u001b[0;34m.\u001b[0m\u001b[0msca\u001b[0m\u001b[0;34m(\u001b[0m\u001b[0ma\u001b[0m\u001b[0;34m)\u001b[0m\u001b[0;34m\u001b[0m\u001b[0m\n",
      "\u001b[0;32m~/anaconda3/envs/data-x/lib/python3.6/site-packages/matplotlib/axes/_subplots.py\u001b[0m in \u001b[0;36m__init__\u001b[0;34m(self, fig, *args, **kwargs)\u001b[0m\n\u001b[1;32m     65\u001b[0m                     raise ValueError(\n\u001b[1;32m     66\u001b[0m                         (\"num must be 1 <= num <= {maxn}, not {num}\"\n\u001b[0;32m---> 67\u001b[0;31m                         ).format(maxn=rows*cols, num=num))\n\u001b[0m\u001b[1;32m     68\u001b[0m                 self._subplotspec = GridSpec(\n\u001b[1;32m     69\u001b[0m                         rows, cols, figure=self.figure)[int(num) - 1]\n",
      "\u001b[0;31mValueError\u001b[0m: num must be 1 <= num <= 0, not 1"
     ]
    },
    {
     "data": {
      "text/plain": [
       "<Figure size 864x576 with 0 Axes>"
      ]
     },
     "metadata": {},
     "output_type": "display_data"
    },
    {
     "data": {
      "text/plain": [
       "<Figure size 432x288 with 0 Axes>"
      ]
     },
     "metadata": {},
     "output_type": "display_data"
    }
   ],
   "source": [
    "import seaborn as sns\n",
    "import matplotlib.pyplot as plt\n",
    "plt.figure(figsize=(12, 8))\n",
    "result[result[\"y\"]==1].hist('% Change in Total Urban Population', bins=[0, 25, 50, 75, 100, 125, 150, 175, 200], density=True)\n",
    "plt.title(\"% Change in Total Urban Population, Gentrified Areas\", fontsize=15)\n",
    "plt.ylabel(\"# of Census Tracts\", fontsize=15)\n",
    "plt.xlabel(\"% Change\", fontsize=15)\n",
    "\n",
    "result[result[\"y\"]==0].hist('% Change in Total Urban Population', bins=[0, 25, 50, 75, 100, 125, 150, 175, 200], density=True)\n",
    "plt.title(\"% Change in Total Urban Population, Non-Gentrified Areas\", fontsize=15)\n",
    "plt.ylabel(\"# of Census Tracts\", fontsize=15)\n",
    "plt.xlabel(\"% Change\", fontsize=15)"
   ]
  },
  {
   "cell_type": "markdown",
   "metadata": {},
   "source": [
    "It appears, from this graph, this is not the best indicator of gentrified vs. non-gentrified."
   ]
  },
  {
   "cell_type": "markdown",
   "metadata": {
    "deletable": false,
    "editable": false
   },
   "source": [
    "# Dimensionality Reducation/PCA"
   ]
  },
  {
   "cell_type": "code",
   "execution_count": null,
   "metadata": {},
   "outputs": [],
   "source": [
    "from sklearn.decomposition import PCA\n",
    "from sklearn.preprocessing import StandardScaler\n",
    "import matplotlib.pyplot as plt"
   ]
  },
  {
   "cell_type": "code",
   "execution_count": null,
   "metadata": {},
   "outputs": [],
   "source": [
    "#for future reference\n",
    "result_cleaned = result.copy(deep=True)"
   ]
  },
  {
   "cell_type": "code",
   "execution_count": null,
   "metadata": {},
   "outputs": [],
   "source": [
    "result.fillna(value=0, inplace=True)"
   ]
  },
  {
   "cell_type": "code",
   "execution_count": null,
   "metadata": {},
   "outputs": [],
   "source": [
    "for col in result.columns.values:\n",
    "    col_mean = np.mean(pd.to_numeric(result[col], errors='coerce'))\n",
    "    result[col] = pd.to_numeric(result[col], errors='coerce').fillna(col_mean, downcast='infer')"
   ]
  },
  {
   "cell_type": "code",
   "execution_count": null,
   "metadata": {},
   "outputs": [],
   "source": [
    "#create x matrix for training/learning\n",
    "x = result.iloc[:, 1:].values\n",
    "x = StandardScaler().fit_transform(x)"
   ]
  },
  {
   "cell_type": "markdown",
   "metadata": {},
   "source": [
    "Next, we use SVD on our Data Matrix X to determine how many principal components we should use (how many features contain the orthogonal directions of most variance) in our resulting X_pca."
   ]
  },
  {
   "cell_type": "code",
   "execution_count": null,
   "metadata": {},
   "outputs": [],
   "source": [
    "u, s, v = np.linalg.svd(x.T)"
   ]
  },
  {
   "cell_type": "code",
   "execution_count": null,
   "metadata": {},
   "outputs": [],
   "source": [
    "plt.figure(figsize=(12, 8))\n",
    "plt.plot(s)\n",
    "plt.title(\"Singular Values of Data Matrix X\", fontsize=15)\n",
    "plt.ylabel(\"Singular Values\", fontsize=15)\n",
    "plt.xlabel(\"Singular Values Corresponding to the ith Loading Vector v\", fontsize=15)"
   ]
  },
  {
   "cell_type": "markdown",
   "metadata": {},
   "source": [
    "We will see how much of the explained variance is captured by the first $k$ principal components to decide how many components to use in the resulting data matrix $X$."
   ]
  },
  {
   "cell_type": "code",
   "execution_count": null,
   "metadata": {},
   "outputs": [],
   "source": [
    "#find the covariance matrix of X\n",
    "cov = np.cov(x.T)\n",
    "eig_vals, eig_vecs = np.linalg.eig(cov)\n",
    "print(eig_vals[:10])"
   ]
  },
  {
   "cell_type": "code",
   "execution_count": null,
   "metadata": {},
   "outputs": [],
   "source": [
    "tot = sum(eig_vals)\n",
    "var_exp = [(i / tot)*100 for i in sorted(eig_vals, reverse=True)]\n",
    "cum_var_exp = np.cumsum(var_exp)"
   ]
  },
  {
   "cell_type": "code",
   "execution_count": null,
   "metadata": {},
   "outputs": [],
   "source": [
    "plt.figure(figsize=(12, 8))\n",
    "plt.plot(range(len(cum_var_exp)), cum_var_exp)\n",
    "plt.title(\"Explained Variance as A Function of Principal Components\", fontsize=15)\n",
    "plt.ylabel(\"Explained Variance in %\", fontsize=15)\n",
    "plt.xlabel(\"# of Principal Components\", fontsize=15)\n"
   ]
  },
  {
   "cell_type": "markdown",
   "metadata": {},
   "source": [
    "It appears that we need ~40 principal components, since it captures about 90% of the explained variance in the dataset."
   ]
  },
  {
   "cell_type": "code",
   "execution_count": null,
   "metadata": {},
   "outputs": [],
   "source": [
    "pca = PCA(n_components=40)\n",
    "principalComponents = pca.fit_transform(x)\n",
    "principalDf = pd.DataFrame(data = principalComponents)"
   ]
  },
  {
   "cell_type": "code",
   "execution_count": null,
   "metadata": {},
   "outputs": [],
   "source": [
    "principalDf.head()"
   ]
  },
  {
   "cell_type": "markdown",
   "metadata": {},
   "source": [
    "Here's an example of a plot of the top-2 principal components and the directions of greatest variance."
   ]
  },
  {
   "cell_type": "code",
   "execution_count": null,
   "metadata": {},
   "outputs": [],
   "source": [
    "#plot the first two principal components on the same axis\n",
    "plt.figure(figsize = (12,8))\n",
    "plt.scatter(principalDf[0], principalDf[1], c=result[\"y\"], label = \"Yellow for '1', Purple for '0'\")\n",
    "plt.xlabel('Principal Component 1', fontsize = 15)\n",
    "plt.ylabel('Principal Component 2', fontsize = 15)\n",
    "plt.title('2-component PCA', fontsize = 15)\n",
    "plt.legend()"
   ]
  },
  {
   "cell_type": "code",
   "execution_count": null,
   "metadata": {},
   "outputs": [],
   "source": [
    "#Next 2 Principal Components\n",
    "#plot the first two principal components on the same axis\n",
    "plt.figure(figsize = (12,8))\n",
    "plt.scatter(principalDf[1], principalDf[2], c=result[\"y\"], label = \"Yellow for '1', Purple for '0'\")\n",
    "plt.xlabel('Principal Component 2', fontsize = 15)\n",
    "plt.ylabel('Principal Component 3', fontsize = 15)\n",
    "plt.title('2-component PCA', fontsize = 15)\n",
    "plt.legend()"
   ]
  },
  {
   "cell_type": "markdown",
   "metadata": {},
   "source": [
    "# Training the Model"
   ]
  },
  {
   "cell_type": "markdown",
   "metadata": {},
   "source": [
    "\"x\": Data Matrix\n",
    "\n",
    "\n",
    "\"principalComponents\": Post-processed data matrix\n",
    "\n",
    "\n",
    "\"y\": labels"
   ]
  },
  {
   "cell_type": "code",
   "execution_count": null,
   "metadata": {},
   "outputs": [],
   "source": [
    "#Train Test Split -- 20% Split\n",
    "from sklearn.model_selection import train_test_split\n",
    "from sklearn import linear_model\n",
    "from sklearn.linear_model import LogisticRegression\n",
    "x_train, x_test, y_train, y_test = train_test_split(principalComponents, y, test_size=0.2, random_state=42)\n"
   ]
  },
  {
   "cell_type": "markdown",
   "metadata": {},
   "source": [
    "Using 5-fold cross validation to find best regularization parameter. The goal of cross validation is to average the validation results to estimate how well the model predicts our y values. It also gives insight into how well our model wil perform on a fresh, independent set of data and helps identify potential points of concern such as selection bias and/or overfitting the data. We also vary our C value, which is the inverse of the strength of the regularizer. Varying C allows us to inspect how the model performs with varying degrees of regularization, which is important in combatting overfitting."
   ]
  },
  {
   "cell_type": "code",
   "execution_count": null,
   "metadata": {},
   "outputs": [],
   "source": [
    "from sklearn.model_selection import cross_val_score\n",
    "for i in [.001, .01, .1, 1, 10, 100, 1000]:\n",
    "    clf = LogisticRegression(penalty='l2', C=i, max_iter = 1000)\n",
    "    scores = cross_val_score(clf, x_train, y_train, cv=5)\n",
    "    print(i, \":\", \"Folds Accuracy: %0.4f (+/- %0.4f)\" % (scores.mean(), scores.std() * 2))"
   ]
  },
  {
   "cell_type": "markdown",
   "metadata": {},
   "source": [
    "We chose to use logistic regression as a model choice, because of the way our labels were constructed and then evaluated (based on the above factors of % change in renter occupied units, total population, and difference in Hispanic/Latino population). After we categorized areas as gentrified or not (our dependent variable), we then moved to use sklearn's logistic regression linear model to estimate our training and test accuracies."
   ]
  },
  {
   "cell_type": "code",
   "execution_count": null,
   "metadata": {},
   "outputs": [],
   "source": [
    "logreg = LogisticRegression(penalty='l2', C=1, max_iter = 1000)\n",
    "logreg.fit(x_train, y_train)\n",
    "logreg_train_acc = logreg.score(x_train, y_train)\n",
    "logreg_test_acc = logreg.score(x_test, y_test)\n",
    "print('logreg training accuracy =', logreg_train_acc)\n",
    "print('logreg test accuracy =', logreg_test_acc)"
   ]
  },
  {
   "cell_type": "markdown",
   "metadata": {},
   "source": [
    "# Bias-Variance Tradeoff Visualization"
   ]
  },
  {
   "cell_type": "markdown",
   "metadata": {},
   "source": [
    "Here, we will plot the test vs. train accuracy as we increase (or decrease) the complexity of the model. This way, we can check for overfitting and underfitting, etc."
   ]
  },
  {
   "cell_type": "code",
   "execution_count": null,
   "metadata": {},
   "outputs": [],
   "source": [
    "features = [10, 20, 30, 40, 50, 60, 70, 80, 90]\n",
    "train_acc = []\n",
    "test_acc = []\n",
    "for num_feat in features:\n",
    "    pca = PCA(n_components=num_feat)\n",
    "    principalComponents = pca.fit_transform(x)\n",
    "    x_train, x_test, y_train, y_test = train_test_split(principalComponents, y, test_size=0.2, random_state=42)\n",
    "\n",
    "\n",
    "    model = LogisticRegression(penalty='l2', max_iter = 1000)\n",
    "    logreg.fit(x_train, y_train)\n",
    "    train_acc.append(logreg.score(x_train, y_train))\n",
    "    test_acc.append(logreg.score(x_test, y_test))\n",
    "\n",
    "plt.figure(figsize = (12,8))\n",
    "plt.plot(features, train_acc, label = \"Training Accuracies\")\n",
    "plt.plot(features, test_acc, label = \"Testing Accuracies\")\n",
    "plt.xlabel('# Features', fontsize = 15)\n",
    "plt.ylabel('Accuracy', fontsize = 15)\n",
    "plt.title('Test vs. Train Accuracy as Model Complexity Increases', fontsize = 15)\n",
    "plt.legend()"
   ]
  },
  {
   "cell_type": "markdown",
   "metadata": {},
   "source": [
    "# Random Forests"
   ]
  },
  {
   "cell_type": "markdown",
   "metadata": {},
   "source": [
    "We also used a Random forest model to aid in our classification. Random forests help in fitting n_estimator number of classifiers on given samples of our training data and use the entropy of each outcome to make a prediction."
   ]
  },
  {
   "cell_type": "code",
   "execution_count": null,
   "metadata": {},
   "outputs": [],
   "source": [
    "from sklearn.ensemble import RandomForestClassifier\n",
    "from sklearn.linear_model import Perceptron"
   ]
  },
  {
   "cell_type": "code",
   "execution_count": null,
   "metadata": {},
   "outputs": [],
   "source": [
    "random_forest = RandomForestClassifier(n_estimators=1000, criterion=\"entropy\")\n",
    "random_forest.fit(x_train, y_train)\n",
    "random_forest_train_acc = random_forest.score(x_train, y_train)\n",
    "random_forest_test_acc = random_forest.score(x_test, y_test)\n",
    "print('random_forest training acuracy= ',random_forest_train_acc)\n",
    "print('random_forest test accuracy= ', random_forest_test_acc)"
   ]
  },
  {
   "cell_type": "markdown",
   "metadata": {},
   "source": [
    "# Perceptron"
   ]
  },
  {
   "cell_type": "markdown",
   "metadata": {},
   "source": [
    "We used another classification model known as the perceptron for binary classification. A perceptron is considered to be similar to back-end structure of sklearn's SGD classifier. Perceptron in itself is a linear classifier and is considered to be a single layer neural network with customizable parameters such as regularization parameter to again combat overfitting."
   ]
  },
  {
   "cell_type": "code",
   "execution_count": null,
   "metadata": {},
   "outputs": [],
   "source": [
    "perceptron = Perceptron()\n",
    "perceptron.fit(x_train, y_train)\n",
    "perceptron_train_acc = perceptron.score(x_train, y_train)\n",
    "perceptron_test_acc = perceptron.score(x_test, y_test)\n",
    "print ('perceptron training acuracy= ',perceptron_train_acc) \n",
    "print('perceptron test accuracy= ',perceptron_test_acc)"
   ]
  },
  {
   "cell_type": "markdown",
   "metadata": {},
   "source": [
    "# SVM"
   ]
  },
  {
   "cell_type": "markdown",
   "metadata": {},
   "source": [
    "We also explored into using SVM (Support vector machine) and used a support vector classification to aid in our modelling. The goal of SVM is to create a hyperplane to separate out our data points based on the y-labels they correspond to. The best hyperplane corresponds to the largest margin between two classes for a linear classifier. Data that remain on the margin are called the \"support vectors\". A larger margin corresponds to a overall lower generalization error for the classifier."
   ]
  },
  {
   "cell_type": "code",
   "execution_count": null,
   "metadata": {},
   "outputs": [],
   "source": [
    "from sklearn.svm import SVC"
   ]
  },
  {
   "cell_type": "code",
   "execution_count": null,
   "metadata": {},
   "outputs": [],
   "source": [
    "svm = SVC(C=.01)\n",
    "svm.fit(x_train, y_train)\n",
    "svm_acc = svm.score(x_train, y_train)\n",
    "svm_test_acc = svm.score(x_test, y_test)\n",
    "print('random_forest training acuracy= ',svm_acc)\n",
    "print('random_forest test accuracy= ', svm_test_acc)"
   ]
  },
  {
   "cell_type": "markdown",
   "metadata": {},
   "source": [
    "# Neural Networks"
   ]
  },
  {
   "cell_type": "markdown",
   "metadata": {},
   "source": [
    "# Visualization: Bias-Variance Tradeoff"
   ]
  },
  {
   "cell_type": "code",
   "execution_count": null,
   "metadata": {},
   "outputs": [],
   "source": []
  }
 ],
 "metadata": {
  "kernelspec": {
   "display_name": "Python 3",
   "language": "python",
   "name": "python3"
  },
  "language_info": {
   "codemirror_mode": {
    "name": "ipython",
    "version": 3
   },
   "file_extension": ".py",
   "mimetype": "text/x-python",
   "name": "python",
   "nbconvert_exporter": "python",
   "pygments_lexer": "ipython3",
   "version": "3.6.5"
  }
 },
 "nbformat": 4,
 "nbformat_minor": 2
}
