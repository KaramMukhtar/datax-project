{
 "cells": [
  {
   "cell_type": "code",
   "execution_count": 391,
   "metadata": {},
   "outputs": [],
   "source": [
    "import pandas as pd\n",
    "import numpy as np"
   ]
  },
  {
   "cell_type": "code",
   "execution_count": 392,
   "metadata": {},
   "outputs": [],
   "source": [
    "import re"
   ]
  },
  {
   "cell_type": "code",
   "execution_count": 393,
   "metadata": {},
   "outputs": [],
   "source": [
    "df2000 = pd.read_csv('Main Data - Population 2000.csv')\n",
    "df2010 = pd.read_csv('Main Data - Population 2010.csv')"
   ]
  },
  {
   "cell_type": "code",
   "execution_count": 394,
   "metadata": {},
   "outputs": [],
   "source": [
    "col_2000 = np.array(df2000.columns)\n",
    "col_2010 = np.array(df2010.columns)"
   ]
  },
  {
   "cell_type": "code",
   "execution_count": 395,
   "metadata": {},
   "outputs": [],
   "source": [
    "temp_2000  = [title for title in col_2000 if \"SEX AND AGE\" in title]"
   ]
  },
  {
   "cell_type": "code",
   "execution_count": 396,
   "metadata": {},
   "outputs": [],
   "source": [
    "temp_2010 = [title for title in col_2010 if \"SEX AND AGE\" in title]"
   ]
  },
  {
   "cell_type": "code",
   "execution_count": 397,
   "metadata": {},
   "outputs": [
    {
     "data": {
      "text/plain": [
       "150"
      ]
     },
     "execution_count": 397,
     "metadata": {},
     "output_type": "execute_result"
    }
   ],
   "source": [
    "len(temp_2010)"
   ]
  },
  {
   "cell_type": "code",
   "execution_count": 398,
   "metadata": {},
   "outputs": [],
   "source": [
    "title_2000 = np.array([title.replace(\"SEX AND AGE - \", \"\") for title in temp_2000])\n",
    "title_2010 = np.array([title.replace(\"SEX AND AGE - \", \"\") for title in temp_2010])"
   ]
  },
  {
   "cell_type": "code",
   "execution_count": 399,
   "metadata": {},
   "outputs": [],
   "source": [
    "array_caps = np.array([\"SEX AND AGE\", \"RACE\", \"HISPANIC OR LATINO AND RACE\", \"RELATIONSHIP\", \"HOUSEHOLDS BY TYPE\",\n",
    "                       \"HOUSING OCCUPANCY\", \"HOUSING TENURE\"])\n",
    "dict_2000 = {}\n",
    "dict_2010 = {}\n",
    "for caps in array_caps:\n",
    "    ind_2000 = [title for title in col_2000 if caps in title]\n",
    "    ind_2010 = [title for title in col_2010 if caps in title]\n",
    "    small_df2000 = df2000[ind_2000]\n",
    "    dict_2000[caps] = small_df2000\n",
    "    small_df2010 = df2010[ind_2010]\n",
    "    dict_2010[caps] = small_df2010\n",
    "#     title_2000 = np.array([title.replace(caps, \"\") for title in df_2000])\n",
    "#     print(\"2000: \",len(title_2000))\n",
    "#     print(\"2010: \", len(title_2010))\n",
    "#     print()\n",
    "#     title_2010 = np.array([title.replace(caps, \"\") for title in df_2010])\n",
    "#     titles_in_both = title_2000[np.array([title in title_2010 for title in title_2000])]\n",
    "#     matching_titles.append(titles_in_both)\n",
    "#     #print(len(titles_in_both))"
   ]
  },
  {
   "cell_type": "code",
   "execution_count": 400,
   "metadata": {},
   "outputs": [],
   "source": [
    "#saving population values as sep objects\n",
    "tot_popn_2000 = df2000.iloc[:,1]\n",
    "tot_popn_2010 = df2010.iloc[:,1]"
   ]
  },
  {
   "cell_type": "code",
   "execution_count": 401,
   "metadata": {},
   "outputs": [],
   "source": [
    "#saving zipcode values as sep objects\n",
    "zip_2000 = df2000.iloc[:,0]\n",
    "zip_2010 = df2010.iloc[:,0]"
   ]
  },
  {
   "cell_type": "markdown",
   "metadata": {},
   "source": [
    "## Sex and Age category df"
   ]
  },
  {
   "cell_type": "code",
   "execution_count": 402,
   "metadata": {},
   "outputs": [],
   "source": [
    "dict_2000_xsex_copy = dict_2000[\"SEX AND AGE\"].copy()\n",
    "dict_2010_xsex_copy = dict_2010[\"SEX AND AGE\"].copy()"
   ]
  },
  {
   "cell_type": "code",
   "execution_count": 403,
   "metadata": {},
   "outputs": [],
   "source": [
    "sex_2000  = [title for title in col_2000 if \"SEX AND AGE\" in title]\n",
    "sex_2010 = [title for title in col_2010 if \"SEX AND AGE\" in title]"
   ]
  },
  {
   "cell_type": "code",
   "execution_count": 404,
   "metadata": {},
   "outputs": [],
   "source": [
    "col_2000_sex = np.array(dict_2000_xsex_copy.columns)\n",
    "col_2010_sex = np.array(dict_2010_xsex_copy.columns)"
   ]
  },
  {
   "cell_type": "code",
   "execution_count": 405,
   "metadata": {},
   "outputs": [],
   "source": [
    "title_2000 = np.array([title.replace(\"Total population - SEX AND AGE\", \"\") for title in col_2000_sex])\n",
    "title_2010 = np.array([title.replace(\"SEX AND AGE - Total population\", \"\") for title in col_2010_sex])"
   ]
  },
  {
   "cell_type": "code",
   "execution_count": 406,
   "metadata": {},
   "outputs": [],
   "source": [
    "dict_2000_xsex_copy.columns = title_2000\n",
    "dict_2010_xsex_copy.columns = title_2010"
   ]
  },
  {
   "cell_type": "code",
   "execution_count": 407,
   "metadata": {},
   "outputs": [],
   "source": [
    "# col_exist = title_2000[np.array([title in title_2010 for title in title_2000])]\n",
    "# matching_2010 = dict_2000_xsex_copy[np.array([title in col_2010_sex for title in col_exist])]\n",
    "# matching_2000 = dict_2010_xsex_copy[np.array([title in title_2010 for title in title_2000])]\n",
    "sex_2000_col_mask = np.array([title in dict_2010_xsex_copy.columns for title in dict_2000_xsex_copy.columns])\n",
    "sex_2010_col_mask= np.array([title in dict_2010_xsex_copy.columns for title in dict_2000_xsex_copy.columns])"
   ]
  },
  {
   "cell_type": "code",
   "execution_count": 408,
   "metadata": {},
   "outputs": [],
   "source": [
    "#new dfs to be merged\n",
    "sex_matching_2000 = dict_2000_xsex_copy[dict_2000_xsex_copy.columns[sex_2000_col_mask]]\n",
    "sex_matching_2010 = dict_2010_xsex_copy[dict_2000_xsex_copy.columns[sex_2010_col_mask]]"
   ]
  },
  {
   "cell_type": "markdown",
   "metadata": {},
   "source": [
    "## Race"
   ]
  },
  {
   "cell_type": "code",
   "execution_count": 409,
   "metadata": {},
   "outputs": [],
   "source": [
    "dict_2000_race = dict_2000[\"RACE\"].copy()\n",
    "dict_2010_race = dict_2010[\"RACE\"].copy()"
   ]
  },
  {
   "cell_type": "code",
   "execution_count": 410,
   "metadata": {},
   "outputs": [],
   "source": [
    "col_2000_race = np.array(dict_2000_race.columns)\n",
    "col_2010_race = np.array(dict_2010_race.columns)\n",
    "title_2000 = np.array([title.replace(\"Total population - RACE - \", \"\").replace(\"race\", \"Race\") for title in col_2000_race])\n",
    "title_2010 = np.array([title.replace(\"RACE - Total population - \", \"\") for title in col_2010_race])"
   ]
  },
  {
   "cell_type": "code",
   "execution_count": 411,
   "metadata": {},
   "outputs": [
    {
     "data": {
      "text/plain": [
       "'Number; One Race - White'"
      ]
     },
     "execution_count": 411,
     "metadata": {},
     "output_type": "execute_result"
    }
   ],
   "source": [
    "list(title_2000[:10])[2]"
   ]
  },
  {
   "cell_type": "code",
   "execution_count": 412,
   "metadata": {},
   "outputs": [
    {
     "data": {
      "text/plain": [
       "'Number; One Race - White'"
      ]
     },
     "execution_count": 412,
     "metadata": {},
     "output_type": "execute_result"
    }
   ],
   "source": [
    "list(title_2010[:10])[4]"
   ]
  },
  {
   "cell_type": "code",
   "execution_count": 413,
   "metadata": {},
   "outputs": [],
   "source": [
    "dict_2000_race.columns = title_2000\n",
    "dict_2010_race.columns = title_2010\n",
    "race_2000_col_mask = np.array([title in dict_2010_race.columns for title in dict_2000_race.columns])\n",
    "race_2010_col_mask= np.array([title in dict_2010_race.columns for title in dict_2000_race.columns])"
   ]
  },
  {
   "cell_type": "code",
   "execution_count": 414,
   "metadata": {},
   "outputs": [],
   "source": [
    "#matching dfs\n",
    "race_matching_2000 = dict_2000_race[dict_2000_race.columns[race_2000_col_mask]]\n",
    "race_matching_2010 = dict_2010_race[dict_2000_race.columns[race_2010_col_mask]]"
   ]
  },
  {
   "cell_type": "markdown",
   "metadata": {},
   "source": [
    "## Hispanic or latino"
   ]
  },
  {
   "cell_type": "code",
   "execution_count": 415,
   "metadata": {},
   "outputs": [],
   "source": [
    "dict_2000_hlar = dict_2000[\"HISPANIC OR LATINO AND RACE\"].copy()\n",
    "dict_2010_hlar = dict_2010[\"HISPANIC OR LATINO AND RACE\"].copy()"
   ]
  },
  {
   "cell_type": "code",
   "execution_count": 416,
   "metadata": {},
   "outputs": [],
   "source": [
    "col_2000_hlar = np.array(dict_2000_hlar.columns)\n",
    "col_2010_hlar = np.array(dict_2010_hlar.columns)\n",
    "# title_2000 = np.array([title.replace(\"Total population - RACE - \", \"\").replace(\"race\", \"Race\") for title in col_2000_race])\n",
    "# title_2010 = np.array([title.replace(\"RACE - Total population - \", \"\") for title in col_2010_race])\n",
    "hlar_2000_col_mask = np.array([title in dict_2010_hlar.columns for title in dict_2000_hlar.columns])\n",
    "test = col_2000_hlar[hlar_2000_col_mask]\n",
    "hlar_2010_col_mask= np.array([title in col_2000_hlar[hlar_2000_col_mask] for title in dict_2010_hlar.columns])"
   ]
  },
  {
   "cell_type": "code",
   "execution_count": 417,
   "metadata": {},
   "outputs": [],
   "source": [
    "#matching dfs\n",
    "hlar_matching_2000 = dict_2000_hlar[dict_2000_hlar.columns[hlar_2000_col_mask]]\n",
    "hlar_matching_2010 = dict_2010_hlar[dict_2010_hlar.columns[hlar_2010_col_mask]]"
   ]
  },
  {
   "cell_type": "markdown",
   "metadata": {},
   "source": [
    "## RELATIONSHIP"
   ]
  },
  {
   "cell_type": "code",
   "execution_count": 418,
   "metadata": {},
   "outputs": [],
   "source": [
    "dict_2000_relt = dict_2000[\"RELATIONSHIP\"].copy()\n",
    "dict_2010_relt = dict_2010[\"RELATIONSHIP\"].copy()\n",
    "col_2000_relt = np.array(dict_2000_relt.columns)\n",
    "col_2010_relt = np.array(dict_2010_relt.columns)\n",
    "col_2010_relt = np.array([title.replace(\" [6]\", \"\") for title in col_2010_relt])\n",
    "col_mask_2000 = np.array([title in col_2010_relt for title in col_2000_relt])\n",
    "col_mask_2010 = np.array([title in col_2000_relt[col_mask_2000] for title in col_2010_relt])\n",
    "# relt_2000_col_mask = np.array([title in dict_2010_relt.columns for title in dict_2000_relt.columns])\n",
    "# relt_2010_col_mask= np.array([title in dict_2010_relt.columns for title in dict_2000_relt.columns])"
   ]
  },
  {
   "cell_type": "code",
   "execution_count": 419,
   "metadata": {},
   "outputs": [],
   "source": [
    "#matching dfs\n",
    "relt_matching_2000 = dict_2000_relt[dict_2000_relt.columns[col_mask_2000]]\n",
    "relt_matching_2010 = dict_2010_relt[dict_2010_relt.columns[col_mask_2010]]"
   ]
  },
  {
   "cell_type": "markdown",
   "metadata": {},
   "source": [
    "## HOUSEHOLDS BY TYPE"
   ]
  },
  {
   "cell_type": "code",
   "execution_count": 420,
   "metadata": {},
   "outputs": [],
   "source": [
    "dict_2000_hhbt = dict_2000[\"HOUSEHOLDS BY TYPE\"].copy()\n",
    "dict_2010_hhbt = dict_2010[\"HOUSEHOLDS BY TYPE\"].copy()\n",
    "col_2000_hhbt = np.array(dict_2000_hhbt.columns)\n",
    "col_2010_hhbt = np.array(dict_2010_hhbt.columns)\n",
    "col_2010_hhbt = np.array([title.replace(\" [7]\", \"\") for title in col_2010_hhbt])\n",
    "col_mask_2000 = np.array([title in col_2010_hhbt for title in col_2000_hhbt])\n",
    "col_mask_2010 = np.array([title in col_2000_hhbt[col_mask_2000] for title in col_2010_hhbt])\n",
    "# relt_2000_col_mask = np.array([title in dict_2010_relt.columns for title in dict_2000_relt.columns])\n",
    "# relt_2010_col_mask= np.array([title in dict_2010_relt.columns for title in dict_2000_relt.columns])"
   ]
  },
  {
   "cell_type": "code",
   "execution_count": 421,
   "metadata": {},
   "outputs": [],
   "source": [
    "#matching dfs\n",
    "hhbt_matching_2000 = dict_2000_hhbt[dict_2000_hhbt.columns[col_mask_2000]]\n",
    "hhbt_matching_2010 = dict_2010_hhbt[dict_2010_hhbt.columns[col_mask_2010]]"
   ]
  },
  {
   "cell_type": "markdown",
   "metadata": {},
   "source": [
    "## HOUSING OCCUPANCY"
   ]
  },
  {
   "cell_type": "code",
   "execution_count": 422,
   "metadata": {},
   "outputs": [],
   "source": [
    "dict_2000_hsoc = dict_2000[\"HOUSING OCCUPANCY\"].copy()\n",
    "dict_2010_hsoc = dict_2010[\"HOUSING OCCUPANCY\"].copy()"
   ]
  },
  {
   "cell_type": "code",
   "execution_count": 423,
   "metadata": {},
   "outputs": [],
   "source": [
    "col_2000_hsoc = np.array(dict_2000_hsoc.columns)\n",
    "col_2010_hsoc = np.array(dict_2010_hsoc.columns)\n",
    "col_2010_hsoc = np.array([title.replace(\" [8]\", \"\").replace(\" [9]\", \"\") for title in col_2010_hsoc])\n",
    "col_mask_2000 = np.array([title in col_2010_hsoc for title in col_2000_hsoc])\n",
    "col_mask_2010 = np.array([title in col_2000_hsoc[col_mask_2000] for title in col_2010_hsoc])"
   ]
  },
  {
   "cell_type": "code",
   "execution_count": 424,
   "metadata": {},
   "outputs": [],
   "source": [
    "#matching dfs\n",
    "hsoc_matching_2000 = dict_2000_hsoc[dict_2000_hsoc.columns[col_mask_2000]]\n",
    "hsoc_matching_2010 = dict_2010_hsoc[dict_2010_hsoc.columns[col_mask_2010]]"
   ]
  },
  {
   "cell_type": "code",
   "execution_count": 425,
   "metadata": {},
   "outputs": [
    {
     "data": {
      "text/plain": [
       "12"
      ]
     },
     "execution_count": 425,
     "metadata": {},
     "output_type": "execute_result"
    }
   ],
   "source": [
    "len(hsoc_matching_2000.columns)"
   ]
  },
  {
   "cell_type": "markdown",
   "metadata": {},
   "source": [
    "## HOUSING TENURE"
   ]
  },
  {
   "cell_type": "code",
   "execution_count": 426,
   "metadata": {},
   "outputs": [],
   "source": [
    "dict_2000_hstn = dict_2000[\"HOUSING TENURE\"].copy()\n",
    "dict_2010_hstn = dict_2010[\"HOUSING TENURE\"].copy()"
   ]
  },
  {
   "cell_type": "code",
   "execution_count": 427,
   "metadata": {},
   "outputs": [],
   "source": [
    "col_2000_hstn = np.array(dict_2000_hstn.columns)\n",
    "col_2010_hstn = np.array(dict_2010_hstn.columns)\n",
    "col_mask_2000 = np.array([title in col_2010_hstn for title in col_2000_hstn])\n",
    "col_mask_2010 = np.array([title in col_2000_hstn[col_mask_2000] for title in col_2010_hstn])"
   ]
  },
  {
   "cell_type": "code",
   "execution_count": 428,
   "metadata": {},
   "outputs": [],
   "source": [
    "#matching dfs\n",
    "hstn_matching_2000 = dict_2000_hstn[dict_2000_hstn.columns[col_mask_2000]]\n",
    "hstn_matching_2010 = dict_2010_hstn[dict_2010_hstn.columns[col_mask_2010]]"
   ]
  },
  {
   "cell_type": "code",
   "execution_count": 429,
   "metadata": {},
   "outputs": [],
   "source": [
    "master_2000 = pd.concat([zip_2000, tot_popn_2000, sex_matching_2000, race_matching_2000, hlar_matching_2000, relt_matching_2000, \n",
    "                         hhbt_matching_2000, hsoc_matching_2000, hstn_matching_2000], axis=1)\n",
    "master_2010 = pd.concat([zip_2010, tot_popn_2010, sex_matching_2010, race_matching_2010, hlar_matching_2010, relt_matching_2010, \n",
    "                         hhbt_matching_2010, hsoc_matching_2010, hstn_matching_2010], axis=1)"
   ]
  },
  {
   "cell_type": "code",
   "execution_count": 438,
   "metadata": {},
   "outputs": [],
   "source": [
    "master_2000 = master_2000.loc[master_2000['Id2'] != 60604]"
   ]
  }
 ],
 "metadata": {
  "kernelspec": {
   "display_name": "Python 3",
   "language": "python",
   "name": "python3"
  },
  "language_info": {
   "codemirror_mode": {
    "name": "ipython",
    "version": 3
   },
   "file_extension": ".py",
   "mimetype": "text/x-python",
   "name": "python",
   "nbconvert_exporter": "python",
   "pygments_lexer": "ipython3",
   "version": "3.6.5"
  }
 },
 "nbformat": 4,
 "nbformat_minor": 2
}
